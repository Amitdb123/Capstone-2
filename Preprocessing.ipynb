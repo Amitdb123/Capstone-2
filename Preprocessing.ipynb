{
 "cells": [
  {
   "cell_type": "code",
   "execution_count": 1,
   "metadata": {},
   "outputs": [],
   "source": [
    "import pandas as pd\n",
    "import numpy as np\n",
    "import seaborn as sns \n",
    "import matplotlib.pyplot as plt\n",
    "from sklearn.preprocessing import StandardScaler\n",
    "from statsmodels.graphics.tsaplots import plot_acf\n",
    "from statsmodels.tsa.stattools import adfuller"
   ]
  },
  {
   "cell_type": "code",
   "execution_count": 2,
   "metadata": {},
   "outputs": [
    {
     "data": {
      "text/html": [
       "<div>\n",
       "<style scoped>\n",
       "    .dataframe tbody tr th:only-of-type {\n",
       "        vertical-align: middle;\n",
       "    }\n",
       "\n",
       "    .dataframe tbody tr th {\n",
       "        vertical-align: top;\n",
       "    }\n",
       "\n",
       "    .dataframe thead th {\n",
       "        text-align: right;\n",
       "    }\n",
       "</style>\n",
       "<table border=\"1\" class=\"dataframe\">\n",
       "  <thead>\n",
       "    <tr style=\"text-align: right;\">\n",
       "      <th></th>\n",
       "      <th>Date</th>\n",
       "      <th>AAPL</th>\n",
       "      <th>GOOGL</th>\n",
       "      <th>HPQ</th>\n",
       "      <th>MSFT</th>\n",
       "      <th>SNE</th>\n",
       "    </tr>\n",
       "  </thead>\n",
       "  <tbody>\n",
       "    <tr>\n",
       "      <th>0</th>\n",
       "      <td>2010-01-05</td>\n",
       "      <td>0.001729</td>\n",
       "      <td>-0.004404</td>\n",
       "      <td>0.004194</td>\n",
       "      <td>0.000323</td>\n",
       "      <td>-0.004664</td>\n",
       "    </tr>\n",
       "    <tr>\n",
       "      <th>1</th>\n",
       "      <td>2010-01-06</td>\n",
       "      <td>-0.015906</td>\n",
       "      <td>-0.025209</td>\n",
       "      <td>-0.009303</td>\n",
       "      <td>-0.006137</td>\n",
       "      <td>-0.001004</td>\n",
       "    </tr>\n",
       "    <tr>\n",
       "      <th>2</th>\n",
       "      <td>2010-01-07</td>\n",
       "      <td>-0.001849</td>\n",
       "      <td>-0.023280</td>\n",
       "      <td>0.000383</td>\n",
       "      <td>-0.010400</td>\n",
       "      <td>-0.001675</td>\n",
       "    </tr>\n",
       "    <tr>\n",
       "      <th>3</th>\n",
       "      <td>2010-01-08</td>\n",
       "      <td>0.006648</td>\n",
       "      <td>0.013331</td>\n",
       "      <td>0.007471</td>\n",
       "      <td>0.006897</td>\n",
       "      <td>0.020470</td>\n",
       "    </tr>\n",
       "    <tr>\n",
       "      <th>4</th>\n",
       "      <td>2010-01-11</td>\n",
       "      <td>-0.008822</td>\n",
       "      <td>-0.001512</td>\n",
       "      <td>-0.003042</td>\n",
       "      <td>-0.012720</td>\n",
       "      <td>0.006248</td>\n",
       "    </tr>\n",
       "  </tbody>\n",
       "</table>\n",
       "</div>"
      ],
      "text/plain": [
       "         Date      AAPL     GOOGL       HPQ      MSFT       SNE\n",
       "0  2010-01-05  0.001729 -0.004404  0.004194  0.000323 -0.004664\n",
       "1  2010-01-06 -0.015906 -0.025209 -0.009303 -0.006137 -0.001004\n",
       "2  2010-01-07 -0.001849 -0.023280  0.000383 -0.010400 -0.001675\n",
       "3  2010-01-08  0.006648  0.013331  0.007471  0.006897  0.020470\n",
       "4  2010-01-11 -0.008822 -0.001512 -0.003042 -0.012720  0.006248"
      ]
     },
     "execution_count": 2,
     "metadata": {},
     "output_type": "execute_result"
    }
   ],
   "source": [
    "returns = pd.read_csv('data/returns.csv')\n",
    "returns.head()"
   ]
  },
  {
   "cell_type": "code",
   "execution_count": 3,
   "metadata": {},
   "outputs": [
    {
     "name": "stdout",
     "output_type": "stream",
     "text": [
      "<class 'pandas.core.frame.DataFrame'>\n",
      "RangeIndex: 2571 entries, 0 to 2570\n",
      "Data columns (total 6 columns):\n",
      " #   Column  Non-Null Count  Dtype  \n",
      "---  ------  --------------  -----  \n",
      " 0   Date    2571 non-null   object \n",
      " 1   AAPL    2571 non-null   float64\n",
      " 2   GOOGL   2571 non-null   float64\n",
      " 3   HPQ     2571 non-null   float64\n",
      " 4   MSFT    2571 non-null   float64\n",
      " 5   SNE     2571 non-null   float64\n",
      "dtypes: float64(5), object(1)\n",
      "memory usage: 110.5+ KB\n"
     ]
    }
   ],
   "source": [
    "returns.info()"
   ]
  },
  {
   "cell_type": "code",
   "execution_count": 4,
   "metadata": {},
   "outputs": [
    {
     "data": {
      "text/html": [
       "<div>\n",
       "<style scoped>\n",
       "    .dataframe tbody tr th:only-of-type {\n",
       "        vertical-align: middle;\n",
       "    }\n",
       "\n",
       "    .dataframe tbody tr th {\n",
       "        vertical-align: top;\n",
       "    }\n",
       "\n",
       "    .dataframe thead th {\n",
       "        text-align: right;\n",
       "    }\n",
       "</style>\n",
       "<table border=\"1\" class=\"dataframe\">\n",
       "  <thead>\n",
       "    <tr style=\"text-align: right;\">\n",
       "      <th></th>\n",
       "      <th>AAPL</th>\n",
       "      <th>GOOGL</th>\n",
       "      <th>HPQ</th>\n",
       "      <th>MSFT</th>\n",
       "      <th>SNE</th>\n",
       "    </tr>\n",
       "  </thead>\n",
       "  <tbody>\n",
       "    <tr>\n",
       "      <th>count</th>\n",
       "      <td>2571.000000</td>\n",
       "      <td>2571.000000</td>\n",
       "      <td>2571.000000</td>\n",
       "      <td>2571.000000</td>\n",
       "      <td>2571.000000</td>\n",
       "    </tr>\n",
       "    <tr>\n",
       "      <th>mean</th>\n",
       "      <td>0.000923</td>\n",
       "      <td>0.000598</td>\n",
       "      <td>-0.000002</td>\n",
       "      <td>0.000696</td>\n",
       "      <td>0.000434</td>\n",
       "    </tr>\n",
       "    <tr>\n",
       "      <th>std</th>\n",
       "      <td>0.017131</td>\n",
       "      <td>0.015923</td>\n",
       "      <td>0.020476</td>\n",
       "      <td>0.015471</td>\n",
       "      <td>0.020718</td>\n",
       "    </tr>\n",
       "    <tr>\n",
       "      <th>min</th>\n",
       "      <td>-0.128647</td>\n",
       "      <td>-0.116342</td>\n",
       "      <td>-0.200271</td>\n",
       "      <td>-0.147390</td>\n",
       "      <td>-0.111740</td>\n",
       "    </tr>\n",
       "    <tr>\n",
       "      <th>25%</th>\n",
       "      <td>-0.007022</td>\n",
       "      <td>-0.006600</td>\n",
       "      <td>-0.008631</td>\n",
       "      <td>-0.006788</td>\n",
       "      <td>-0.010678</td>\n",
       "    </tr>\n",
       "    <tr>\n",
       "      <th>50%</th>\n",
       "      <td>0.000886</td>\n",
       "      <td>0.000553</td>\n",
       "      <td>0.000429</td>\n",
       "      <td>0.000529</td>\n",
       "      <td>0.000000</td>\n",
       "    </tr>\n",
       "    <tr>\n",
       "      <th>75%</th>\n",
       "      <td>0.009874</td>\n",
       "      <td>0.008460</td>\n",
       "      <td>0.009544</td>\n",
       "      <td>0.008327</td>\n",
       "      <td>0.010979</td>\n",
       "    </tr>\n",
       "    <tr>\n",
       "      <th>max</th>\n",
       "      <td>0.119808</td>\n",
       "      <td>0.162584</td>\n",
       "      <td>0.170984</td>\n",
       "      <td>0.142169</td>\n",
       "      <td>0.176934</td>\n",
       "    </tr>\n",
       "  </tbody>\n",
       "</table>\n",
       "</div>"
      ],
      "text/plain": [
       "              AAPL        GOOGL          HPQ         MSFT          SNE\n",
       "count  2571.000000  2571.000000  2571.000000  2571.000000  2571.000000\n",
       "mean      0.000923     0.000598    -0.000002     0.000696     0.000434\n",
       "std       0.017131     0.015923     0.020476     0.015471     0.020718\n",
       "min      -0.128647    -0.116342    -0.200271    -0.147390    -0.111740\n",
       "25%      -0.007022    -0.006600    -0.008631    -0.006788    -0.010678\n",
       "50%       0.000886     0.000553     0.000429     0.000529     0.000000\n",
       "75%       0.009874     0.008460     0.009544     0.008327     0.010979\n",
       "max       0.119808     0.162584     0.170984     0.142169     0.176934"
      ]
     },
     "execution_count": 4,
     "metadata": {},
     "output_type": "execute_result"
    }
   ],
   "source": [
    "returns.describe()"
   ]
  },
  {
   "cell_type": "code",
   "execution_count": 5,
   "metadata": {},
   "outputs": [
    {
     "data": {
      "image/png": "[encoded data removed]",
      "text/plain": [
       "<Figure size 432x288 with 6 Axes>"
      ]
     },
     "metadata": {
      "needs_background": "light"
     },
     "output_type": "display_data"
    }
   ],
   "source": [
    "#plots show the returns for each company are represented by a normal distribution\n",
    "_ = returns.hist(bins=20)\n",
    "_ = plt.tight_layout()"
   ]
  },
  {
   "cell_type": "code",
   "execution_count": 6,
   "metadata": {
    "scrolled": true
   },
   "outputs": [
    {
     "data": {
      "image/png": "[encoded data removed]",
      "text/plain": [
       "<Figure size 432x288 with 1 Axes>"
      ]
     },
     "metadata": {
      "needs_background": "light"
     },
     "output_type": "display_data"
    },
    {
     "data": {
      "image/png": "[encoded data removed]",
      "text/plain": [
       "<Figure size 432x288 with 1 Axes>"
      ]
     },
     "metadata": {
      "needs_background": "light"
     },
     "output_type": "display_data"
    },
    {
     "data": {
      "image/png": "[encoded data removed]",
      "text/plain": [
       "<Figure size 432x288 with 1 Axes>"
      ]
     },
     "metadata": {
      "needs_background": "light"
     },
     "output_type": "display_data"
    },
    {
     "data": {
      "image/png": "[encoded data removed]",
      "text/plain": [
       "<Figure size 432x288 with 1 Axes>"
      ]
     },
     "metadata": {
      "needs_background": "light"
     },
     "output_type": "display_data"
    },
    {
     "data": {
      "image/png": "[encoded data removed]",
      "text/plain": [
       "<Figure size 432x288 with 1 Axes>"
      ]
     },
     "metadata": {
      "needs_background": "light"
     },
     "output_type": "display_data"
    }
   ],
   "source": [
    "# plot the autocorrelation for each tech company to determine if the past will help predict the future\n",
    "\n",
    "for com in returns.columns[1:]:\n",
    "    plot_acf(returns[com],lags=30)\n",
    "    plt.title(com)\n",
    "    plt.show()"
   ]
  },
  {
   "cell_type": "markdown",
   "metadata": {},
   "source": [
    "The only companies which past data will help forecast the future are Apple and Microsoft as the rest of the technology companies autocorrelations are close to zero."
   ]
  },
  {
   "cell_type": "code",
   "execution_count": 7,
   "metadata": {},
   "outputs": [
    {
     "name": "stdout",
     "output_type": "stream",
     "text": [
      "For AAPL\n",
      "mean1=0.001247, mean2=0.000598\n",
      "variance1=0.000285, variance2=0.000302\n",
      "\n",
      "For GOOGL\n",
      "mean1=0.000554, mean2=0.000642\n",
      "variance1=0.000247, variance2=0.000261\n",
      "\n",
      "For HPQ\n",
      "mean1=-0.000019, mean2=0.000015\n",
      "variance1=0.000442, variance2=0.000397\n",
      "\n",
      "For MSFT\n",
      "mean1=0.000359, mean2=0.001033\n",
      "variance1=0.000203, variance2=0.000276\n",
      "\n",
      "For SNE\n",
      "mean1=0.000162, mean2=0.000707\n",
      "variance1=0.000484, variance2=0.000375\n",
      "\n"
     ]
    }
   ],
   "source": [
    "# split each column and see if the mean and variance is roughly the same. This will help check for stationarity.\n",
    "\n",
    "for companies in returns.columns[1:]:\n",
    "    company = returns[companies]\n",
    "    split = round(len(company)/2)\n",
    "    X_1,X_2 = company[:split], company[split:]\n",
    "    mean_1,mean_2 = X_1.mean(), X_2.mean()\n",
    "    var_1,var_2 = X_1.var(), X_2.var()\n",
    "    print('For {}'.format(companies))\n",
    "    print('mean1=%f, mean2=%f' % (mean_1, mean_2))\n",
    "    print('variance1=%f, variance2=%f' % (var_1, var_2))\n",
    "    print('')"
   ]
  },
  {
   "cell_type": "code",
   "execution_count": 8,
   "metadata": {},
   "outputs": [
    {
     "name": "stdout",
     "output_type": "stream",
     "text": [
      "ADF Statistic: -15.579841\n",
      "The p-value for AAPL is 1.9388923264778066e-28\n",
      "\t1%: -3.433\n",
      "\t5%: -2.863\n",
      "\t10%: -2.567\n",
      "ADF Statistic: -15.830029\n",
      "The p-value for GOOGL is 9.968433667914084e-29\n",
      "\t1%: -3.433\n",
      "\t5%: -2.863\n",
      "\t10%: -2.567\n",
      "ADF Statistic: -17.581615\n",
      "The p-value for HPQ is 4.0046819110001386e-30\n",
      "\t1%: -3.433\n",
      "\t5%: -2.863\n",
      "\t10%: -2.567\n",
      "ADF Statistic: -20.588421\n",
      "The p-value for MSFT is 0.0\n",
      "\t1%: -3.433\n",
      "\t5%: -2.863\n",
      "\t10%: -2.567\n",
      "ADF Statistic: -35.156443\n",
      "The p-value for SNE is 0.0\n",
      "\t1%: -3.433\n",
      "\t5%: -2.863\n",
      "\t10%: -2.567\n"
     ]
    }
   ],
   "source": [
    "# showing if returns are a random walk for every company\n",
    "# H_o :  The companies follow a random walk with an 5% confidence interval.\n",
    "# H_1 : The companies are stationary\n",
    "\n",
    "for com in returns.columns[1:]:\n",
    "    result = adfuller(returns[com])\n",
    "    print('ADF Statistic: %f' % result[0])\n",
    "    print('The p-value for {} is {}'.format(com,result[1]))\n",
    "    for key, value in result[4].items():\n",
    "        print('\\t%s: %.3f' % (key, value))"
   ]
  },
  {
   "cell_type": "markdown",
   "metadata": {},
   "source": [
    "This shows strong evidence that every company does not follow a random walk, proving each companies returns is stationary.This is shown by a negative ADF value and a p-value less than 5%.  "
   ]
  },
  {
   "cell_type": "code",
   "execution_count": 9,
   "metadata": {
    "scrolled": true
   },
   "outputs": [
    {
     "data": {
      "text/html": [
       "<div>\n",
       "<style scoped>\n",
       "    .dataframe tbody tr th:only-of-type {\n",
       "        vertical-align: middle;\n",
       "    }\n",
       "\n",
       "    .dataframe tbody tr th {\n",
       "        vertical-align: top;\n",
       "    }\n",
       "\n",
       "    .dataframe thead th {\n",
       "        text-align: right;\n",
       "    }\n",
       "</style>\n",
       "<table border=\"1\" class=\"dataframe\">\n",
       "  <thead>\n",
       "    <tr style=\"text-align: right;\">\n",
       "      <th></th>\n",
       "      <th>AAPL</th>\n",
       "      <th>GOOGL</th>\n",
       "      <th>HPQ</th>\n",
       "      <th>MSFT</th>\n",
       "      <th>SNE</th>\n",
       "    </tr>\n",
       "  </thead>\n",
       "  <tbody>\n",
       "    <tr>\n",
       "      <th>0</th>\n",
       "      <td>0.047066</td>\n",
       "      <td>-0.314156</td>\n",
       "      <td>0.204983</td>\n",
       "      <td>-0.024091</td>\n",
       "      <td>-0.246104</td>\n",
       "    </tr>\n",
       "    <tr>\n",
       "      <th>1</th>\n",
       "      <td>-0.982544</td>\n",
       "      <td>-1.621008</td>\n",
       "      <td>-0.454330</td>\n",
       "      <td>-0.441732</td>\n",
       "      <td>-0.069430</td>\n",
       "    </tr>\n",
       "    <tr>\n",
       "      <th>2</th>\n",
       "      <td>-0.161800</td>\n",
       "      <td>-1.499830</td>\n",
       "      <td>0.018821</td>\n",
       "      <td>-0.717326</td>\n",
       "      <td>-0.101829</td>\n",
       "    </tr>\n",
       "    <tr>\n",
       "      <th>3</th>\n",
       "      <td>0.334283</td>\n",
       "      <td>0.799837</td>\n",
       "      <td>0.365041</td>\n",
       "      <td>0.400888</td>\n",
       "      <td>0.967249</td>\n",
       "    </tr>\n",
       "    <tr>\n",
       "      <th>4</th>\n",
       "      <td>-0.568911</td>\n",
       "      <td>-0.132490</td>\n",
       "      <td>-0.148511</td>\n",
       "      <td>-0.867342</td>\n",
       "      <td>0.280668</td>\n",
       "    </tr>\n",
       "  </tbody>\n",
       "</table>\n",
       "</div>"
      ],
      "text/plain": [
       "       AAPL     GOOGL       HPQ      MSFT       SNE\n",
       "0  0.047066 -0.314156  0.204983 -0.024091 -0.246104\n",
       "1 -0.982544 -1.621008 -0.454330 -0.441732 -0.069430\n",
       "2 -0.161800 -1.499830  0.018821 -0.717326 -0.101829\n",
       "3  0.334283  0.799837  0.365041  0.400888  0.967249\n",
       "4 -0.568911 -0.132490 -0.148511 -0.867342  0.280668"
      ]
     },
     "execution_count": 9,
     "metadata": {},
     "output_type": "execute_result"
    }
   ],
   "source": [
    "#standardize the returns data\n",
    "\n",
    "standardized_list = []\n",
    "\n",
    "\n",
    "for companies in returns.columns[1:]:\n",
    "    \n",
    "    company = returns[[companies]].values\n",
    "    \n",
    "    scaler = StandardScaler()\n",
    "    scaler = scaler.fit(company)\n",
    "    standardized = scaler.transform(company)\n",
    "    \n",
    "    standardized = standardized.reshape(len(standardized))\n",
    "    standardized_list.append(standardized)\n",
    "\n",
    "\n",
    "company_names = [names for names in returns.columns[1:]]\n",
    "standardized_dict = dict(zip(company_names,standardized_list))\n",
    "\n",
    "\n",
    "standardized_df = pd.DataFrame(standardized_dict)\n",
    "standardized_df.head()\n"
   ]
  },
  {
   "cell_type": "code",
   "execution_count": 10,
   "metadata": {},
   "outputs": [],
   "source": [
    "# going to predict apple returns.\n",
    "\n",
    "X = standardized_df.drop(['AAPL'],axis=1)\n",
    "y = standardized_df['MSFT'].values\n",
    "\n",
    "#split the dataset into train and test\n",
    "\n",
    "X_train = X[:int(X.shape[0]*0.7)]\n",
    "X_test = X[int(X.shape[0]*0.7):]\n",
    "y_train = y[:int(X.shape[0]*0.7)]\n",
    "y_test = y[int(X.shape[0]*0.7):]\n"
   ]
  }
 ],
 "metadata": {
  "kernelspec": {
   "display_name": "Python 3.7.4 32-bit",
   "language": "python",
   "name": "python37432bite5e5a2f8311a49f9b84c1da248f7ccb1"
  },
  "language_info": {
   "codemirror_mode": {
    "name": "ipython",
    "version": 3
   },
   "file_extension": ".py",
   "mimetype": "text/x-python",
   "name": "python",
   "nbconvert_exporter": "python",
   "pygments_lexer": "ipython3",
   "version": "3.7.4"
  }
 },
 "nbformat": 4,
 "nbformat_minor": 4
}
