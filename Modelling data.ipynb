{
 "cells": [
  {
   "cell_type": "code",
   "execution_count": 1,
   "metadata": {},
   "outputs": [],
   "source": [
    "import numpy as np\n",
    "import pandas as pd\n",
    "import seaborn as sns\n",
    "import matplotlib.pyplot as plt"
   ]
  },
  {
   "cell_type": "markdown",
   "metadata": {},
   "source": [
    "<font color='red'>Prior to modelling the data, I will first take a look at cointegrated companies by comparing their adjusted close price. Firstly by checking that each companies adjusted close price follows a random walk and secondly checking for cointegration.</font>"
   ]
  },
  {
   "cell_type": "code",
   "execution_count": 2,
   "metadata": {},
   "outputs": [
    {
     "data": {
      "text/html": [
       "<div>\n",
       "<style scoped>\n",
       "    .dataframe tbody tr th:only-of-type {\n",
       "        vertical-align: middle;\n",
       "    }\n",
       "\n",
       "    .dataframe tbody tr th {\n",
       "        vertical-align: top;\n",
       "    }\n",
       "\n",
       "    .dataframe thead th {\n",
       "        text-align: right;\n",
       "    }\n",
       "</style>\n",
       "<table border=\"1\" class=\"dataframe\">\n",
       "  <thead>\n",
       "    <tr style=\"text-align: right;\">\n",
       "      <th></th>\n",
       "      <th>Date</th>\n",
       "      <th>Apple</th>\n",
       "      <th>Google</th>\n",
       "      <th>Hp</th>\n",
       "      <th>Microsoft</th>\n",
       "      <th>Sony</th>\n",
       "    </tr>\n",
       "  </thead>\n",
       "  <tbody>\n",
       "    <tr>\n",
       "      <th>0</th>\n",
       "      <td>2010-01-04</td>\n",
       "      <td>26.419203</td>\n",
       "      <td>313.688690</td>\n",
       "      <td>18.160637</td>\n",
       "      <td>24.168472</td>\n",
       "      <td>27.184526</td>\n",
       "    </tr>\n",
       "    <tr>\n",
       "      <th>1</th>\n",
       "      <td>2010-01-05</td>\n",
       "      <td>26.464878</td>\n",
       "      <td>312.307312</td>\n",
       "      <td>18.236814</td>\n",
       "      <td>24.176279</td>\n",
       "      <td>27.057753</td>\n",
       "    </tr>\n",
       "    <tr>\n",
       "      <th>2</th>\n",
       "      <td>2010-01-06</td>\n",
       "      <td>26.043921</td>\n",
       "      <td>304.434448</td>\n",
       "      <td>18.067152</td>\n",
       "      <td>24.027906</td>\n",
       "      <td>27.030584</td>\n",
       "    </tr>\n",
       "    <tr>\n",
       "      <th>3</th>\n",
       "      <td>2010-01-07</td>\n",
       "      <td>25.995777</td>\n",
       "      <td>297.347351</td>\n",
       "      <td>18.074080</td>\n",
       "      <td>23.778025</td>\n",
       "      <td>26.985306</td>\n",
       "    </tr>\n",
       "    <tr>\n",
       "      <th>4</th>\n",
       "      <td>2010-01-08</td>\n",
       "      <td>26.168606</td>\n",
       "      <td>301.311310</td>\n",
       "      <td>18.209112</td>\n",
       "      <td>23.942017</td>\n",
       "      <td>27.537689</td>\n",
       "    </tr>\n",
       "  </tbody>\n",
       "</table>\n",
       "</div>"
      ],
      "text/plain": [
       "         Date      Apple      Google         Hp  Microsoft       Sony\n",
       "0  2010-01-04  26.419203  313.688690  18.160637  24.168472  27.184526\n",
       "1  2010-01-05  26.464878  312.307312  18.236814  24.176279  27.057753\n",
       "2  2010-01-06  26.043921  304.434448  18.067152  24.027906  27.030584\n",
       "3  2010-01-07  25.995777  297.347351  18.074080  23.778025  26.985306\n",
       "4  2010-01-08  26.168606  301.311310  18.209112  23.942017  27.537689"
      ]
     },
     "execution_count": 2,
     "metadata": {},
     "output_type": "execute_result"
    }
   ],
   "source": [
    "aj = pd.read_csv('data/Adjusted close.csv')\n",
    "aj.head()"
   ]
  },
  {
   "cell_type": "code",
   "execution_count": 3,
   "metadata": {},
   "outputs": [
    {
     "name": "stdout",
     "output_type": "stream",
     "text": [
      "<class 'pandas.core.frame.DataFrame'>\n",
      "RangeIndex: 2572 entries, 0 to 2571\n",
      "Data columns (total 6 columns):\n",
      " #   Column     Non-Null Count  Dtype  \n",
      "---  ------     --------------  -----  \n",
      " 0   Date       2572 non-null   object \n",
      " 1   Apple      2572 non-null   float64\n",
      " 2   Google     2572 non-null   float64\n",
      " 3   Hp         2572 non-null   float64\n",
      " 4   Microsoft  2572 non-null   float64\n",
      " 5   Sony       2572 non-null   float64\n",
      "dtypes: float64(5), object(1)\n",
      "memory usage: 120.7+ KB\n"
     ]
    }
   ],
   "source": [
    "aj.info()"
   ]
  },
  {
   "cell_type": "code",
   "execution_count": 4,
   "metadata": {},
   "outputs": [
    {
     "name": "stdout",
     "output_type": "stream",
     "text": [
      "<class 'pandas.core.frame.DataFrame'>\n",
      "RangeIndex: 2572 entries, 0 to 2571\n",
      "Data columns (total 6 columns):\n",
      " #   Column     Non-Null Count  Dtype         \n",
      "---  ------     --------------  -----         \n",
      " 0   Date       2572 non-null   datetime64[ns]\n",
      " 1   Apple      2572 non-null   float64       \n",
      " 2   Google     2572 non-null   float64       \n",
      " 3   Hp         2572 non-null   float64       \n",
      " 4   Microsoft  2572 non-null   float64       \n",
      " 5   Sony       2572 non-null   float64       \n",
      "dtypes: datetime64[ns](1), float64(5)\n",
      "memory usage: 120.7 KB\n"
     ]
    }
   ],
   "source": [
    "# convert date column in aj into a datetime object\n",
    "\n",
    "aj['Date'] = aj['Date'].apply(pd.to_datetime)\n",
    "aj.info()"
   ]
  },
  {
   "cell_type": "code",
   "execution_count": 5,
   "metadata": {},
   "outputs": [
    {
     "data": {
      "image/png": "[encoded data removed]",
      "text/plain": [
       "<Figure size 432x288 with 1 Axes>"
      ]
     },
     "metadata": {
      "needs_background": "light"
     },
     "output_type": "display_data"
    }
   ],
   "source": [
    "#plots of adjusted closing price for each compaany\n",
    "for column in aj.columns[1:]:\n",
    "    plt.plot('Date',column,data=aj)\n",
    "_ = plt.title('Adjusted Closing Price')\n",
    "_ = plt.xlabel('Year')\n",
    "_ = plt.ylabel('Adjusted closing price USD')\n",
    "plt.legend()\n",
    "plt.show()"
   ]
  },
  {
   "cell_type": "code",
   "execution_count": 6,
   "metadata": {},
   "outputs": [
    {
     "name": "stdout",
     "output_type": "stream",
     "text": [
      "The p-value for the ADF test on Apple is 0.5154623180488823\n",
      "The p-value for the ADF test on Google is 0.7264308153541197\n",
      "The p-value for the ADF test on Hp is 0.41153994597512167\n",
      "The p-value for the ADF test on Microsoft is 0.9946890919673206\n",
      "The p-value for the ADF test on Sony is 0.8541331937209464\n"
     ]
    }
   ],
   "source": [
    "#firstly check to see that the adjusted closing price follows a random walk.\n",
    "from statsmodels.tsa.stattools import adfuller\n",
    "\n",
    "for column in aj.columns[1:]:\n",
    "    result = adfuller(aj[column])\n",
    "    print(\"The p-value for the ADF test on {} is {}\".format(column,result[1]))"
   ]
  },
  {
   "cell_type": "markdown",
   "metadata": {},
   "source": [
    "<font color='red'>With a 99% confidence interval, all observations of the adjusted closing price follow a random walk .</font>"
   ]
  },
  {
   "cell_type": "code",
   "execution_count": 7,
   "metadata": {},
   "outputs": [
    {
     "data": {
      "text/html": [
       "<div>\n",
       "<style scoped>\n",
       "    .dataframe tbody tr th:only-of-type {\n",
       "        vertical-align: middle;\n",
       "    }\n",
       "\n",
       "    .dataframe tbody tr th {\n",
       "        vertical-align: top;\n",
       "    }\n",
       "\n",
       "    .dataframe thead th {\n",
       "        text-align: right;\n",
       "    }\n",
       "</style>\n",
       "<table border=\"1\" class=\"dataframe\">\n",
       "  <thead>\n",
       "    <tr style=\"text-align: right;\">\n",
       "      <th></th>\n",
       "      <th>Apple</th>\n",
       "      <th>Google</th>\n",
       "      <th>Hp</th>\n",
       "      <th>Microsoft</th>\n",
       "      <th>Sony</th>\n",
       "    </tr>\n",
       "    <tr>\n",
       "      <th>Date</th>\n",
       "      <th></th>\n",
       "      <th></th>\n",
       "      <th></th>\n",
       "      <th></th>\n",
       "      <th></th>\n",
       "    </tr>\n",
       "  </thead>\n",
       "  <tbody>\n",
       "    <tr>\n",
       "      <th>2010-01-04</th>\n",
       "      <td>26.419203</td>\n",
       "      <td>313.688690</td>\n",
       "      <td>18.160637</td>\n",
       "      <td>24.168472</td>\n",
       "      <td>27.184526</td>\n",
       "    </tr>\n",
       "    <tr>\n",
       "      <th>2010-01-05</th>\n",
       "      <td>26.464878</td>\n",
       "      <td>312.307312</td>\n",
       "      <td>18.236814</td>\n",
       "      <td>24.176279</td>\n",
       "      <td>27.057753</td>\n",
       "    </tr>\n",
       "    <tr>\n",
       "      <th>2010-01-06</th>\n",
       "      <td>26.043921</td>\n",
       "      <td>304.434448</td>\n",
       "      <td>18.067152</td>\n",
       "      <td>24.027906</td>\n",
       "      <td>27.030584</td>\n",
       "    </tr>\n",
       "    <tr>\n",
       "      <th>2010-01-07</th>\n",
       "      <td>25.995777</td>\n",
       "      <td>297.347351</td>\n",
       "      <td>18.074080</td>\n",
       "      <td>23.778025</td>\n",
       "      <td>26.985306</td>\n",
       "    </tr>\n",
       "    <tr>\n",
       "      <th>2010-01-08</th>\n",
       "      <td>26.168606</td>\n",
       "      <td>301.311310</td>\n",
       "      <td>18.209112</td>\n",
       "      <td>23.942017</td>\n",
       "      <td>27.537689</td>\n",
       "    </tr>\n",
       "  </tbody>\n",
       "</table>\n",
       "</div>"
      ],
      "text/plain": [
       "                Apple      Google         Hp  Microsoft       Sony\n",
       "Date                                                              \n",
       "2010-01-04  26.419203  313.688690  18.160637  24.168472  27.184526\n",
       "2010-01-05  26.464878  312.307312  18.236814  24.176279  27.057753\n",
       "2010-01-06  26.043921  304.434448  18.067152  24.027906  27.030584\n",
       "2010-01-07  25.995777  297.347351  18.074080  23.778025  26.985306\n",
       "2010-01-08  26.168606  301.311310  18.209112  23.942017  27.537689"
      ]
     },
     "execution_count": 7,
     "metadata": {},
     "output_type": "execute_result"
    }
   ],
   "source": [
    "# set date as index\n",
    "aj = aj.set_index('Date')\n",
    "aj.head()"
   ]
  },
  {
   "cell_type": "code",
   "execution_count": 8,
   "metadata": {},
   "outputs": [
    {
     "data": {
      "image/png": "[encoded data removed]",
      "text/plain": [
       "<Figure size 432x288 with 1 Axes>"
      ]
     },
     "metadata": {
      "needs_background": "light"
     },
     "output_type": "display_data"
    },
    {
     "name": "stdout",
     "output_type": "stream",
     "text": [
      "     0          1\n",
      "0  PC1     Google\n",
      "1  PC2         Hp\n",
      "2  PC3     Google\n",
      "3  PC4      Apple\n",
      "4  PC5  Microsoft\n"
     ]
    }
   ],
   "source": [
    "# perform PCA on the data to analyse the less informative features\n",
    "\n",
    "from sklearn.decomposition import PCA\n",
    "from sklearn.pipeline import make_pipeline \n",
    "from sklearn.preprocessing import MinMaxScaler\n",
    "\n",
    "new_df = aj[['Apple', 'Google', 'Hp', 'Microsoft', 'Sony']]\n",
    "initial_feature_names = ['Apple', 'Google', 'Hp', 'Microsoft', 'Sony']\n",
    "\n",
    "scaler = MinMaxScaler()\n",
    "pca = PCA()\n",
    "\n",
    "pipeline = make_pipeline(scaler,pca)\n",
    "pipeline.fit(aj.values)\n",
    "\n",
    "n_pcs = pca.components_.shape[0]\n",
    "\n",
    "\n",
    "# to find out the most important features in order\n",
    "\n",
    "most_important = [np.abs(pca.components_[i]).argmax() for i in range(n_pcs)]\n",
    "most_important_names = [initial_feature_names[most_important[i]] for i in range(n_pcs)]\n",
    "dic = {'PC{}'.format(i+1): most_important_names[i] for i in range(n_pcs)}\n",
    "df = pd.DataFrame(sorted(dic.items()))\n",
    "\n",
    "\n",
    "features = range(pca.n_components_)\n",
    "\n",
    "_ = plt.bar(features,pca.explained_variance_)\n",
    "_ = plt.xticks(features)\n",
    "_ = plt.ylabel('variance')\n",
    "\n",
    "plt.show()\n",
    "print(df)"
   ]
  },
  {
   "cell_type": "markdown",
   "metadata": {},
   "source": [
    "<font color='red'> From the PCA, only google shows a significant amount of variance. Next I will perform the augmented adfuller test between each company and Microsoft to see if they are cointegrated."
   ]
  },
  {
   "cell_type": "code",
   "execution_count": 9,
   "metadata": {},
   "outputs": [
    {
     "name": "stdout",
     "output_type": "stream",
     "text": [
      "Between Google and Microsoft\n",
      "The p-value for the ADF test is  0.7652989423827379\n"
     ]
    }
   ],
   "source": [
    "#test to see cointegration between Google and Microsoft\n",
    "import statsmodels.api as sm\n",
    "\n",
    "MSFT = aj[['Microsoft']]\n",
    "GOOGLE = aj[['Google']]\n",
    "\n",
    "MSFT = sm.add_constant(MSFT)\n",
    "result = sm.OLS(GOOGLE,MSFT).fit()\n",
    "\n",
    "#value of the gradient \n",
    "const = result.params[1]\n",
    "adf_g = adfuller(aj['Google'] - const*aj['Microsoft'])\n",
    "print('Between Google and Microsoft')\n",
    "print('The p-value for the ADF test is ', adf_g[1])"
   ]
  },
  {
   "cell_type": "code",
   "execution_count": 10,
   "metadata": {},
   "outputs": [
    {
     "name": "stdout",
     "output_type": "stream",
     "text": [
      "Between Apple and Microsoft\n",
      "The p-value for the ADF test is  0.2965132352305258\n"
     ]
    }
   ],
   "source": [
    "# test to see cointegration between Apple and Microsoft\n",
    "\n",
    "APPLE = aj[['Apple']]\n",
    "\n",
    "MSFT = sm.add_constant(MSFT)\n",
    "result = sm.OLS(APPLE,MSFT).fit()\n",
    "\n",
    "#value of the gradient \n",
    "const = result.params[1]\n",
    "adf_a = adfuller(aj['Microsoft'] - const*aj['Apple'])\n",
    "print('Between Apple and Microsoft')\n",
    "print('The p-value for the ADF test is ', adf_a[1])"
   ]
  },
  {
   "cell_type": "code",
   "execution_count": 11,
   "metadata": {},
   "outputs": [
    {
     "name": "stdout",
     "output_type": "stream",
     "text": [
      "Between Hp and Microsoft\n",
      "The p-value for the ADF test is  0.2873156624411061\n"
     ]
    }
   ],
   "source": [
    "# test to see cointegration between Microsoft and Hp\n",
    "\n",
    "HP = aj[['Hp']]\n",
    "\n",
    "MSFT = sm.add_constant(MSFT)\n",
    "result = sm.OLS(HP,MSFT).fit()\n",
    "\n",
    "#value of the gradient \n",
    "const = result.params[1]\n",
    "adf_h = adfuller(aj['Hp'] - const*aj['Microsoft'])\n",
    "print('Between Hp and Microsoft')\n",
    "print('The p-value for the ADF test is ', adf_h[1])"
   ]
  },
  {
   "cell_type": "code",
   "execution_count": 12,
   "metadata": {},
   "outputs": [
    {
     "name": "stdout",
     "output_type": "stream",
     "text": [
      "Between Sony and Microsoft\n",
      "The p-value for the ADF test is  0.15472735293282103\n"
     ]
    }
   ],
   "source": [
    "# test to see cointegration between Microsoft and Sony\n",
    "\n",
    "SONY = aj[['Sony']]\n",
    "\n",
    "MSFT = sm.add_constant(MSFT)\n",
    "result = sm.OLS(SONY,MSFT).fit()\n",
    "\n",
    "#value of the gradient \n",
    "const = result.params[1]\n",
    "adf_s = adfuller(aj['Sony'] - const*aj['Microsoft'])\n",
    "print('Between Sony and Microsoft')\n",
    "print('The p-value for the ADF test is ', adf_s[1])"
   ]
  },
  {
   "cell_type": "code",
   "execution_count": 13,
   "metadata": {},
   "outputs": [
    {
     "data": {
      "text/html": [
       "<div>\n",
       "<style scoped>\n",
       "    .dataframe tbody tr th:only-of-type {\n",
       "        vertical-align: middle;\n",
       "    }\n",
       "\n",
       "    .dataframe tbody tr th {\n",
       "        vertical-align: top;\n",
       "    }\n",
       "\n",
       "    .dataframe thead th {\n",
       "        text-align: right;\n",
       "    }\n",
       "</style>\n",
       "<table border=\"1\" class=\"dataframe\">\n",
       "  <thead>\n",
       "    <tr style=\"text-align: right;\">\n",
       "      <th></th>\n",
       "      <th>Google</th>\n",
       "      <th>Apple</th>\n",
       "      <th>Hp</th>\n",
       "      <th>Sony</th>\n",
       "    </tr>\n",
       "  </thead>\n",
       "  <tbody>\n",
       "    <tr>\n",
       "      <th>P-value</th>\n",
       "      <td>0.765</td>\n",
       "      <td>0.297</td>\n",
       "      <td>0.287</td>\n",
       "      <td>0.155</td>\n",
       "    </tr>\n",
       "  </tbody>\n",
       "</table>\n",
       "</div>"
      ],
      "text/plain": [
       "         Google  Apple     Hp   Sony\n",
       "P-value   0.765  0.297  0.287  0.155"
      ]
     },
     "execution_count": 13,
     "metadata": {},
     "output_type": "execute_result"
    }
   ],
   "source": [
    "# cointegration values of each company compared with microsoft\n",
    "\n",
    "p_val_com = {'Google':[round(adf_g[1],3)],'Apple':[round(adf_a[1],3)],'Hp':[round(adf_h[1],3)],'Sony':[round(adf_s[1],3)]}\n",
    "cointegration_df = pd.DataFrame(p_val_com,index=['P-value'])\n",
    "cointegration_df"
   ]
  },
  {
   "cell_type": "markdown",
   "metadata": {},
   "source": [
    "<font color='red'> By comparing Microsoft with each company, no company shows a statistically significant cointegration value. From the results of the adfuller test and PCA, all features will be removed from the dataset.</font>"
   ]
  },
  {
   "cell_type": "code",
   "execution_count": 14,
   "metadata": {},
   "outputs": [
    {
     "data": {
      "text/html": [
       "<div>\n",
       "<style scoped>\n",
       "    .dataframe tbody tr th:only-of-type {\n",
       "        vertical-align: middle;\n",
       "    }\n",
       "\n",
       "    .dataframe tbody tr th {\n",
       "        vertical-align: top;\n",
       "    }\n",
       "\n",
       "    .dataframe thead th {\n",
       "        text-align: right;\n",
       "    }\n",
       "</style>\n",
       "<table border=\"1\" class=\"dataframe\">\n",
       "  <thead>\n",
       "    <tr style=\"text-align: right;\">\n",
       "      <th></th>\n",
       "      <th>Microsoft</th>\n",
       "    </tr>\n",
       "    <tr>\n",
       "      <th>Date</th>\n",
       "      <th></th>\n",
       "    </tr>\n",
       "  </thead>\n",
       "  <tbody>\n",
       "    <tr>\n",
       "      <th>2010-01-04</th>\n",
       "      <td>24.168472</td>\n",
       "    </tr>\n",
       "    <tr>\n",
       "      <th>2010-01-05</th>\n",
       "      <td>24.176279</td>\n",
       "    </tr>\n",
       "    <tr>\n",
       "      <th>2010-01-06</th>\n",
       "      <td>24.027906</td>\n",
       "    </tr>\n",
       "    <tr>\n",
       "      <th>2010-01-07</th>\n",
       "      <td>23.778025</td>\n",
       "    </tr>\n",
       "    <tr>\n",
       "      <th>2010-01-08</th>\n",
       "      <td>23.942017</td>\n",
       "    </tr>\n",
       "  </tbody>\n",
       "</table>\n",
       "</div>"
      ],
      "text/plain": [
       "            Microsoft\n",
       "Date                 \n",
       "2010-01-04  24.168472\n",
       "2010-01-05  24.176279\n",
       "2010-01-06  24.027906\n",
       "2010-01-07  23.778025\n",
       "2010-01-08  23.942017"
      ]
     },
     "execution_count": 14,
     "metadata": {},
     "output_type": "execute_result"
    }
   ],
   "source": [
    "MSFT = MSFT.drop('const',1)\n",
    "MSFT.head()"
   ]
  },
  {
   "cell_type": "markdown",
   "metadata": {},
   "source": [
    "<b> <font color='green'>PREPROCESSING</b> "
   ]
  },
  {
   "cell_type": "code",
   "execution_count": 69,
   "metadata": {},
   "outputs": [
    {
     "data": {
      "image/png": "[encoded data removed]",
      "text/plain": [
       "<Figure size 432x288 with 1 Axes>"
      ]
     },
     "metadata": {
      "needs_background": "light"
     },
     "output_type": "display_data"
    },
    {
     "data": {
      "image/png": "[encoded data removed]",
      "text/plain": [
       "<Figure size 432x288 with 1 Axes>"
      ]
     },
     "metadata": {
      "needs_background": "light"
     },
     "output_type": "display_data"
    }
   ],
   "source": [
    "#ACF : ckecks to see if there is a the previos time step has an impact on the next time step\n",
    "#PCF : see which lag has an impact on the next time step.\n",
    "from statsmodels.graphics.tsaplots import plot_pacf, plot_acf\n",
    "\n",
    "_ = plot_acf(MSFT['Microsoft'],lags=30)\n",
    "_ = plot_pacf(MSFT['Microsoft'],lags=30)"
   ]
  },
  {
   "cell_type": "code",
   "execution_count": 21,
   "metadata": {},
   "outputs": [],
   "source": [
    "shift_days = 1\n",
    "forecast_days = 30\n",
    "MSFT['predictions'] = MSFT['Microsoft'].shift(-shift_days)"
   ]
  },
  {
   "cell_type": "code",
   "execution_count": 22,
   "metadata": {},
   "outputs": [],
   "source": [
    "MSFT = MSFT.dropna()"
   ]
  },
  {
   "cell_type": "code",
   "execution_count": 23,
   "metadata": {},
   "outputs": [
    {
     "data": {
      "text/html": [
       "<div>\n",
       "<style scoped>\n",
       "    .dataframe tbody tr th:only-of-type {\n",
       "        vertical-align: middle;\n",
       "    }\n",
       "\n",
       "    .dataframe tbody tr th {\n",
       "        vertical-align: top;\n",
       "    }\n",
       "\n",
       "    .dataframe thead th {\n",
       "        text-align: right;\n",
       "    }\n",
       "</style>\n",
       "<table border=\"1\" class=\"dataframe\">\n",
       "  <thead>\n",
       "    <tr style=\"text-align: right;\">\n",
       "      <th></th>\n",
       "      <th>Microsoft</th>\n",
       "      <th>predictions</th>\n",
       "    </tr>\n",
       "    <tr>\n",
       "      <th>Date</th>\n",
       "      <th></th>\n",
       "      <th></th>\n",
       "    </tr>\n",
       "  </thead>\n",
       "  <tbody>\n",
       "    <tr>\n",
       "      <th>2020-02-14</th>\n",
       "      <td>183.887222</td>\n",
       "      <td>185.752396</td>\n",
       "    </tr>\n",
       "    <tr>\n",
       "      <th>2020-02-18</th>\n",
       "      <td>185.752396</td>\n",
       "      <td>186.309494</td>\n",
       "    </tr>\n",
       "    <tr>\n",
       "      <th>2020-02-19</th>\n",
       "      <td>186.309494</td>\n",
       "      <td>183.464310</td>\n",
       "    </tr>\n",
       "    <tr>\n",
       "      <th>2020-02-20</th>\n",
       "      <td>183.464310</td>\n",
       "      <td>177.664520</td>\n",
       "    </tr>\n",
       "    <tr>\n",
       "      <th>2020-02-21</th>\n",
       "      <td>177.664520</td>\n",
       "      <td>170.004425</td>\n",
       "    </tr>\n",
       "  </tbody>\n",
       "</table>\n",
       "</div>"
      ],
      "text/plain": [
       "             Microsoft  predictions\n",
       "Date                               \n",
       "2020-02-14  183.887222   185.752396\n",
       "2020-02-18  185.752396   186.309494\n",
       "2020-02-19  186.309494   183.464310\n",
       "2020-02-20  183.464310   177.664520\n",
       "2020-02-21  177.664520   170.004425"
      ]
     },
     "execution_count": 23,
     "metadata": {},
     "output_type": "execute_result"
    }
   ],
   "source": [
    "MSFT.tail()"
   ]
  },
  {
   "cell_type": "code",
   "execution_count": 83,
   "metadata": {},
   "outputs": [],
   "source": [
    "X,y = MSFT[['Microsoft']].values, MSFT[['predictions']].values\n",
    "X_train,X_test = MSFT[['Microsoft']].values[:-forecast_days], MSFT[['Microsoft']].values[-forecast_days:]\n",
    "\n",
    "y_train,y_test = MSFT[['predictions']].values[:-forecast_days], MSFT[['predictions']].values[-forecast_days:]"
   ]
  },
  {
   "cell_type": "markdown",
   "metadata": {},
   "source": [
    "<b> <font color='green'>----------MODELLING-----------</b> "
   ]
  },
  {
   "cell_type": "markdown",
   "metadata": {},
   "source": [
    "<font color='red'> For the modelling section, I will cover Linear Regression, XGBoost and LSTM. For each model the hyperparameters will be tuned and a metrics will be calculated to determine if the model is able to make an accurate prediction on unseen data.</font>\n"
   ]
  },
  {
   "cell_type": "markdown",
   "metadata": {},
   "source": [
    "<font color='blue'> Linear Regression</font>\n"
   ]
  },
  {
   "cell_type": "code",
   "execution_count": 101,
   "metadata": {},
   "outputs": [
    {
     "name": "stdout",
     "output_type": "stream",
     "text": [
      "Fitting 5 folds for each of 64 candidates, totalling 320 fits\n"
     ]
    },
    {
     "name": "stderr",
     "output_type": "stream",
     "text": [
      "[Parallel(n_jobs=1)]: Using backend SequentialBackend with 1 concurrent workers.\n"
     ]
    },
    {
     "name": "stdout",
     "output_type": "stream",
     "text": [
      "Best parameters found:  {'lin_reg__fit_intercept': False, 'poly__degree': 1, 'poly__include_bias': False, 'poly__interaction_only': False, 'poly__order': 'C'}\n",
      "Lowest RMSE found:  0.7601657490435973\n"
     ]
    },
    {
     "name": "stderr",
     "output_type": "stream",
     "text": [
      "[Parallel(n_jobs=1)]: Done 320 out of 320 | elapsed:    0.7s finished\n"
     ]
    }
   ],
   "source": [
    "# first model will be multiple linear regression \n",
    "from sklearn.linear_model import LinearRegression \n",
    "from sklearn.preprocessing import PolynomialFeatures\n",
    "from sklearn.model_selection import GridSearchCV, TimeSeriesSplit\n",
    "from sklearn.pipeline import Pipeline \n",
    "\n",
    "LR = LinearRegression()\n",
    "PF = PolynomialFeatures()\n",
    "time_splitter_inner = TimeSeriesSplit(n_splits=5)\n",
    "\n",
    "\n",
    "steps = [('poly',PF),\n",
    "         ('lin_reg',LR)]\n",
    "\n",
    "pipeline = Pipeline(steps)\n",
    "params = {'poly__degree':[1,2,3,4],\n",
    "          'poly__interaction_only':[False,True],\n",
    "          'poly__include_bias': [False,True],\n",
    "          'poly__order':['C','F'],\n",
    "          'lin_reg__fit_intercept':[True,False]\n",
    "}\n",
    "\n",
    "gs_cv = GridSearchCV(pipeline, param_grid=params,\n",
    "                     scoring='neg_mean_absolute_error', \n",
    "                     cv=time_splitter_inner, verbose=1)\n",
    "\n",
    "gs_cv.fit(X_train,y_train)\n",
    "\n",
    "print(\"Best parameters found: \", gs_cv.best_params_)\n",
    "print(\"Lowest RMSE found: \", np.sqrt(np.abs(gs_cv.best_score_)))"
   ]
  },
  {
   "cell_type": "code",
   "execution_count": 102,
   "metadata": {},
   "outputs": [
    {
     "data": {
      "image/png": "[encoded data removed]",
      "text/plain": [
       "<Figure size 432x288 with 1 Axes>"
      ]
     },
     "metadata": {
      "needs_background": "light"
     },
     "output_type": "display_data"
    }
   ],
   "source": [
    "LR = LinearRegression(fit_intercept=False)\n",
    "PF = PolynomialFeatures(degree=1, include_bias=False, interaction_only=False, order='C')\n",
    "\n",
    "steps = [('poly',PF),\n",
    "        ('lin_reg',LR)]\n",
    "\n",
    "pipeline = Pipeline(steps)\n",
    "pipeline.fit(X_train,y_train)\n",
    "lr_y_pred = pipeline.predict(X_test)\n",
    "\n",
    "#plt.plot([None for i in y_train] + [x for x in y_test])\n",
    "test_range = MSFT[['Microsoft']][-forecast_days:].index\n",
    "\n",
    "_ = plt.plot(test_range,lr_y_pred,label= 'Prediction',color='red')\n",
    "_ = plt.plot(test_range,y_test,label= 'Test',color='blue')\n",
    "_ = plt.xticks(rotation=45)\n",
    "_ = plt.title('Linear Regression Prediction and Test Results')\n",
    "_ = plt.legend()"
   ]
  },
  {
   "cell_type": "code",
   "execution_count": 103,
   "metadata": {},
   "outputs": [
    {
     "name": "stdout",
     "output_type": "stream",
     "text": [
      "Mean Absolute Error:  2.410349675930983\n",
      "Root Mean Squared Error:  3.073165393569959\n"
     ]
    }
   ],
   "source": [
    "#metrics MAE,RMSE\n",
    "from sklearn.metrics import mean_absolute_error,mean_squared_error, accuracy_score\n",
    "\n",
    "\n",
    "print('Mean Absolute Error: ',mean_absolute_error(y_test,lr_y_pred))\n",
    "print('Root Mean Squared Error: ',np.sqrt(mean_squared_error(y_test,lr_y_pred)))"
   ]
  },
  {
   "cell_type": "markdown",
   "metadata": {},
   "source": [
    "<font color='blue'> XGBoost</font>\n"
   ]
  },
  {
   "cell_type": "code",
   "execution_count": 105,
   "metadata": {},
   "outputs": [
    {
     "name": "stdout",
     "output_type": "stream",
     "text": [
      "Fitting 5 folds for each of 60 candidates, totalling 300 fits\n"
     ]
    },
    {
     "name": "stderr",
     "output_type": "stream",
     "text": [
      "[Parallel(n_jobs=-1)]: Using backend LokyBackend with 12 concurrent workers.\n",
      "[Parallel(n_jobs=-1)]: Done  26 tasks      | elapsed:    3.4s\n",
      "[Parallel(n_jobs=-1)]: Done 176 tasks      | elapsed:    5.5s\n",
      "[Parallel(n_jobs=-1)]: Done 300 out of 300 | elapsed:    7.1s finished\n"
     ]
    },
    {
     "name": "stdout",
     "output_type": "stream",
     "text": [
      "Best parameters found:  {'subsample': 0.6, 'n_estimators': 250, 'max_depth': 3, 'learning_rate': 0.25, 'colsample_bytree': 0.7}\n",
      "Lowest RMSE found:  3.2999536324029757\n"
     ]
    }
   ],
   "source": [
    "# create a Randomized search to find optimal hyper-parameters\n",
    "import xgboost as xgb\n",
    "from sklearn.model_selection import RandomizedSearchCV\n",
    "\n",
    "gbm_param_grid = {\n",
    "    'colsample_bytree': [0.3,0.4,0.5,0.6,0.7,0.8,0.9],\n",
    "    'n_estimators': [50,100,150,200,250,300],\n",
    "    'max_depth': [1,2,3,4,5,7,10,13],\n",
    "    'learning_rate':[0.05,0.1,0.15,0.2,0.25,0.3],\n",
    "    'subsample':[0.5,0.6,0.7,0.8,0.9]\n",
    "}\n",
    "\n",
    "gbm = xgb.XGBRegressor()\n",
    "\n",
    "rs_mse = RandomizedSearchCV(estimator=gbm, param_distributions=gbm_param_grid, \n",
    "                              n_iter=60,scoring='neg_mean_absolute_error', \n",
    "                              cv=time_splitter_inner, verbose=1, n_jobs=-1)\n",
    "\n",
    "rs_mse.fit(X,y)\n",
    "\n",
    "print(\"Best parameters found: \", rs_mse.best_params_)\n",
    "print(\"Lowest RMSE found: \", np.sqrt(np.abs(rs_mse.best_score_)))"
   ]
  },
  {
   "cell_type": "code",
   "execution_count": 109,
   "metadata": {},
   "outputs": [],
   "source": [
    "# use walk forward validation \n",
    "\n",
    "def xgboost_forecast(X_train,y_train,X_test):\n",
    "    \n",
    "    model = xgb.XGBRegressor(colsample_bytree = 0.7,\n",
    "                        n_estimators = 250,\n",
    "                        max_depth = 3,\n",
    "                        learning_rate = 0.25,\n",
    "                        subsample = 0.6)\n",
    "    model.fit(X_train,y_train)\n",
    "    yhat = model.predict(X_test)\n",
    "    return yhat[0]\n",
    "    \n",
    "\n",
    "history = [x for x in X_train]\n",
    "xgb_model_predictions = []\n",
    "\n",
    "for i in range(len(X_test)):\n",
    "    yhat = xgboost_forecast(X_train,y_train,X_test)\n",
    "    xgb_model_predictions.append(yhat)\n",
    "    history.append(X_test[i])\n",
    "\n"
   ]
  },
  {
   "cell_type": "code",
   "execution_count": 110,
   "metadata": {},
   "outputs": [
    {
     "data": {
      "image/png": "[encoded data removed]",
      "text/plain": [
       "<Figure size 432x288 with 1 Axes>"
      ]
     },
     "metadata": {
      "needs_background": "light"
     },
     "output_type": "display_data"
    }
   ],
   "source": [
    "plt.plot(test_range,y_test,color='blue',label='Test')\n",
    "plt.plot(test_range,xgb_model_predictions,color='red',label='Prediction')\n",
    "plt.xticks(rotation=45)\n",
    "plt.legend()\n",
    "plt.show()"
   ]
  },
  {
   "cell_type": "code",
   "execution_count": 96,
   "metadata": {},
   "outputs": [
    {
     "name": "stdout",
     "output_type": "stream",
     "text": [
      "Mean Absolute Error:  14.696806335449219\n",
      "Root Mean Squared Error:  17.362082268859936\n"
     ]
    }
   ],
   "source": [
    "print('Mean Absolute Error: ',mean_absolute_error(y_test,xgb_model_predictions))\n",
    "print('Root Mean Squared Error: ',np.sqrt(mean_squared_error(y_test,xgb_model_predictions)))"
   ]
  },
  {
   "cell_type": "code",
   "execution_count": 86,
   "metadata": {},
   "outputs": [
    {
     "name": "stdout",
     "output_type": "stream",
     "text": [
      "[16:13:55] WARNING: C:\\Users\\Administrator\\workspace\\xgboost-win64_release_1.2.0\\src\\learner.cc:516: \n",
      "Parameters: { n_estimators } might not be used.\n",
      "\n",
      "  This may not be accurate due to some parameters are only used in language bindings but\n",
      "  passed down to XGBoost core.  Or some parameters are not used but slip through this\n",
      "  verification. Please open an issue if you find above cases.\n",
      "\n",
      "\n"
     ]
    },
    {
     "data": {
      "image/png": "[encoded data removed]",
      "text/plain": [
       "<Figure size 432x288 with 1 Axes>"
      ]
     },
     "metadata": {
      "needs_background": "light"
     },
     "output_type": "display_data"
    }
   ],
   "source": [
    "DM_train = xgb.DMatrix(data=X_train, label=y_train)\n",
    "DM_test = xgb.DMatrix(data=X_test, label=y_test)\n",
    "\n",
    "params = {\n",
    "    'objective':'reg:squarederror',\n",
    "    'n_estimators':200,\n",
    "    'colsample_bytree':0.9,\n",
    "    'max_depth':2,\n",
    "    'learning_rate':0.15,\n",
    "    'subsample':0.7\n",
    "}\n",
    "\n",
    "\n",
    "xgb_reg = xgb.train(dtrain=DM_train, params=params, num_boost_round=500)\n",
    "y_pred = xgb_reg.predict(DM_test)\n",
    "\n",
    "\n",
    "\n",
    "_ = plt.plot(y_pred,label= 'Prediction',color='red')\n",
    "_ = plt.plot(y_test,label= 'Test',color='blue')\n",
    "_ = plt.title('XGBoost Prediction and Test Results')\n",
    "_ = plt.legend()"
   ]
  },
  {
   "cell_type": "code",
   "execution_count": 30,
   "metadata": {},
   "outputs": [
    {
     "data": {
      "image/png": "[encoded data removed]",
      "text/plain": [
       "<Figure size 432x288 with 1 Axes>"
      ]
     },
     "metadata": {
      "needs_background": "light"
     },
     "output_type": "display_data"
    }
   ],
   "source": [
    "from sklearn.preprocessing import StandardScaler\n",
    "\n",
    "gbm = xgb.XGBRegressor(colsample_bytree = 0.0001,\n",
    "                        n_estimators = 50,\n",
    "                        max_depth = 3,\n",
    "                        learning_rate = 0.9,\n",
    "                        subsample = 0.3)\n",
    "\n",
    "scale = StandardScaler()\n",
    "steps = [('scale',scale),\n",
    "         ('poly',gbm)]\n",
    "\n",
    "pipeline = Pipeline(steps)\n",
    "pipeline.fit(X_train,y_train)\n",
    "y_pred = pipeline.predict(X_test)\n",
    "\n",
    "\n",
    "\n",
    "_ = plt.plot(y_pred,label= 'Prediction',color='red')\n",
    "_ = plt.plot(y_test,label= 'Test',color='blue')\n",
    "_ = plt.title('XGBoost Prediction and Test Results')\n",
    "_ = plt.legend()"
   ]
  },
  {
   "cell_type": "code",
   "execution_count": 31,
   "metadata": {},
   "outputs": [
    {
     "name": "stdout",
     "output_type": "stream",
     "text": [
      "Mean Absolute Error:  13.697157287597657\n",
      "Root Mean Squared Error:  16.524463743497087\n"
     ]
    }
   ],
   "source": [
    "print('Mean Absolute Error: ',mean_absolute_error(y_test,y_pred))\n",
    "print('Root Mean Squared Error: ',np.sqrt(mean_squared_error(y_test,y_pred)))"
   ]
  },
  {
   "cell_type": "markdown",
   "metadata": {},
   "source": [
    "<font color='blue'> ARIMA</font>\n"
   ]
  },
  {
   "cell_type": "code",
   "execution_count": 33,
   "metadata": {},
   "outputs": [
    {
     "data": {
      "text/plain": [
       "[<matplotlib.lines.Line2D at 0x16e050e3670>]"
      ]
     },
     "execution_count": 33,
     "metadata": {},
     "output_type": "execute_result"
    },
    {
     "data": {
      "image/png": "[encoded data removed]",
      "text/plain": [
       "<Figure size 432x288 with 1 Axes>"
      ]
     },
     "metadata": {
      "needs_background": "light"
     },
     "output_type": "display_data"
    }
   ],
   "source": [
    "# convert to stationarity- mean,variance and covaraince is constant over periods\n",
    "plt.plot(MSFT['Microsoft'].diff(-1))\n"
   ]
  },
  {
   "cell_type": "code",
   "execution_count": 34,
   "metadata": {},
   "outputs": [],
   "source": [
    "#create stationarity\n",
    "difference = MSFT[['Microsoft']].diff(-1)\n"
   ]
  },
  {
   "cell_type": "code",
   "execution_count": 35,
   "metadata": {},
   "outputs": [],
   "source": [
    "#drop missing values \n",
    "difference = difference.dropna()"
   ]
  },
  {
   "cell_type": "code",
   "execution_count": 70,
   "metadata": {},
   "outputs": [
    {
     "data": {
      "image/png": "[encoded data removed]",
      "text/plain": [
       "<Figure size 432x288 with 1 Axes>"
      ]
     },
     "metadata": {
      "needs_background": "light"
     },
     "output_type": "display_data"
    }
   ],
   "source": [
    "_ = plot_acf(difference)"
   ]
  },
  {
   "cell_type": "code",
   "execution_count": 38,
   "metadata": {},
   "outputs": [],
   "source": [
    "test_size = 30\n",
    "\n",
    "X = MSFT[['Microsoft']] \n",
    "\n",
    "train = X[:-test_size]\n",
    "test = X[-test_size:]\n",
    "\n",
    "training_data = train['Microsoft'].values.reshape(-1,1)\n",
    "testing_data = test['Microsoft'].values.reshape(-1,1)\n"
   ]
  },
  {
   "cell_type": "code",
   "execution_count": 42,
   "metadata": {},
   "outputs": [
    {
     "name": "stdout",
     "output_type": "stream",
     "text": [
      "6373.411221545268\n"
     ]
    }
   ],
   "source": [
    "#Armia model\n",
    "from statsmodels.tsa.arima_model import ARIMA\n",
    "#p: periods taken for autoregressive model\n",
    "#d: order of integration\n",
    "#q: periods in moving average model \n",
    "\n",
    "model_arima = ARIMA(training_data,order=(8,2,1))\n",
    "model_arima_fit = model_arima.fit()\n",
    "print(model_arima_fit.aic)"
   ]
  },
  {
   "cell_type": "code",
   "execution_count": 44,
   "metadata": {},
   "outputs": [],
   "source": [
    "prediction_arima = model_arima_fit.forecast(steps=30)[0]\n"
   ]
  },
  {
   "cell_type": "code",
   "execution_count": 45,
   "metadata": {},
   "outputs": [
    {
     "data": {
      "text/plain": [
       "<matplotlib.legend.Legend at 0x16e052d94c0>"
      ]
     },
     "execution_count": 45,
     "metadata": {},
     "output_type": "execute_result"
    },
    {
     "data": {
      "image/png": "[encoded data removed]",
      "text/plain": [
       "<Figure size 432x288 with 1 Axes>"
      ]
     },
     "metadata": {
      "needs_background": "light"
     },
     "output_type": "display_data"
    }
   ],
   "source": [
    "plt.plot(testing_data,label='test',color='blue',alpha=0.5)\n",
    "plt.plot(prediction_arima,label='prediction_arima',color='red')\n",
    "plt.legend()"
   ]
  },
  {
   "cell_type": "code",
   "execution_count": 101,
   "metadata": {},
   "outputs": [],
   "source": [
    "import itertools\n",
    "import warnings\n",
    "\n",
    "warnings.filterwarnings('ignore')\n",
    "p = [x for x in range(0,9)]\n",
    "d=q = [0,1,2]\n",
    "pdq = list(itertools.product(p,d,q))\n",
    "results = {}\n",
    "\n",
    "def evaluate_arima_model(train,test,arima_order):\n",
    "    history = [x for x in train]\n",
    "    model_predictions = []\n",
    "    N_test_observations = len(test)\n",
    "\n",
    "    for time_point in range(N_test_observations):\n",
    "        model = ARIMA(history,order=arima_order)\n",
    "        model_fit = model.fit(disp=0)\n",
    "        yhat = model_fit.forecast()[0]\n",
    "        model_predictions.append(yhat)\n",
    "        true_test_value = testing_data[time_point]\n",
    "        history.append(true_test_value)\n",
    "    \n",
    "    MSE_error = mean_squared_error(testing_data,model_predictions)\n",
    "    return MSE_error\n",
    "    \n",
    "\n",
    "for param in pdq:\n",
    "    try:\n",
    "        param_mse = evaluate_arima_model(training_data,testing_data,param)\n",
    "        results[param] = param_mse\n",
    "    except:\n",
    "        continue\n"
   ]
  },
  {
   "cell_type": "code",
   "execution_count": 109,
   "metadata": {
    "collapsed": true
   },
   "outputs": [
    {
     "data": {
      "text/html": [
       "<div>\n",
       "<style scoped>\n",
       "    .dataframe tbody tr th:only-of-type {\n",
       "        vertical-align: middle;\n",
       "    }\n",
       "\n",
       "    .dataframe tbody tr th {\n",
       "        vertical-align: top;\n",
       "    }\n",
       "\n",
       "    .dataframe thead th {\n",
       "        text-align: right;\n",
       "    }\n",
       "</style>\n",
       "<table border=\"1\" class=\"dataframe\">\n",
       "  <thead>\n",
       "    <tr style=\"text-align: right;\">\n",
       "      <th></th>\n",
       "      <th>ARIMA Parameters</th>\n",
       "      <th>MSE</th>\n",
       "    </tr>\n",
       "  </thead>\n",
       "  <tbody>\n",
       "    <tr>\n",
       "      <th>0</th>\n",
       "      <td>(0, 0, 0)</td>\n",
       "      <td>10444.512712</td>\n",
       "    </tr>\n",
       "    <tr>\n",
       "      <th>1</th>\n",
       "      <td>(0, 0, 1)</td>\n",
       "      <td>2659.157635</td>\n",
       "    </tr>\n",
       "    <tr>\n",
       "      <th>2</th>\n",
       "      <td>(0, 1, 0)</td>\n",
       "      <td>1.554332</td>\n",
       "    </tr>\n",
       "    <tr>\n",
       "      <th>3</th>\n",
       "      <td>(0, 1, 1)</td>\n",
       "      <td>1.580281</td>\n",
       "    </tr>\n",
       "    <tr>\n",
       "      <th>4</th>\n",
       "      <td>(0, 1, 2)</td>\n",
       "      <td>1.538531</td>\n",
       "    </tr>\n",
       "    <tr>\n",
       "      <th>5</th>\n",
       "      <td>(0, 2, 0)</td>\n",
       "      <td>2.977488</td>\n",
       "    </tr>\n",
       "    <tr>\n",
       "      <th>6</th>\n",
       "      <td>(0, 2, 1)</td>\n",
       "      <td>1.508220</td>\n",
       "    </tr>\n",
       "    <tr>\n",
       "      <th>7</th>\n",
       "      <td>(0, 2, 2)</td>\n",
       "      <td>1.522248</td>\n",
       "    </tr>\n",
       "    <tr>\n",
       "      <th>8</th>\n",
       "      <td>(1, 0, 0)</td>\n",
       "      <td>1.591577</td>\n",
       "    </tr>\n",
       "    <tr>\n",
       "      <th>9</th>\n",
       "      <td>(1, 1, 0)</td>\n",
       "      <td>1.579273</td>\n",
       "    </tr>\n",
       "    <tr>\n",
       "      <th>10</th>\n",
       "      <td>(1, 1, 1)</td>\n",
       "      <td>1.570028</td>\n",
       "    </tr>\n",
       "    <tr>\n",
       "      <th>11</th>\n",
       "      <td>(1, 1, 2)</td>\n",
       "      <td>1.572294</td>\n",
       "    </tr>\n",
       "    <tr>\n",
       "      <th>12</th>\n",
       "      <td>(1, 2, 0)</td>\n",
       "      <td>2.396580</td>\n",
       "    </tr>\n",
       "    <tr>\n",
       "      <th>13</th>\n",
       "      <td>(2, 0, 0)</td>\n",
       "      <td>1.619449</td>\n",
       "    </tr>\n",
       "    <tr>\n",
       "      <th>14</th>\n",
       "      <td>(2, 1, 0)</td>\n",
       "      <td>1.548882</td>\n",
       "    </tr>\n",
       "    <tr>\n",
       "      <th>15</th>\n",
       "      <td>(2, 1, 1)</td>\n",
       "      <td>1.576094</td>\n",
       "    </tr>\n",
       "    <tr>\n",
       "      <th>16</th>\n",
       "      <td>(2, 1, 2)</td>\n",
       "      <td>1.659503</td>\n",
       "    </tr>\n",
       "    <tr>\n",
       "      <th>17</th>\n",
       "      <td>(2, 2, 0)</td>\n",
       "      <td>2.327168</td>\n",
       "    </tr>\n",
       "    <tr>\n",
       "      <th>18</th>\n",
       "      <td>(2, 2, 1)</td>\n",
       "      <td>1.483877</td>\n",
       "    </tr>\n",
       "    <tr>\n",
       "      <th>19</th>\n",
       "      <td>(2, 2, 2)</td>\n",
       "      <td>1.516913</td>\n",
       "    </tr>\n",
       "    <tr>\n",
       "      <th>20</th>\n",
       "      <td>(3, 0, 0)</td>\n",
       "      <td>1.596137</td>\n",
       "    </tr>\n",
       "    <tr>\n",
       "      <th>21</th>\n",
       "      <td>(3, 1, 0)</td>\n",
       "      <td>1.575428</td>\n",
       "    </tr>\n",
       "    <tr>\n",
       "      <th>22</th>\n",
       "      <td>(3, 1, 1)</td>\n",
       "      <td>1.579301</td>\n",
       "    </tr>\n",
       "    <tr>\n",
       "      <th>23</th>\n",
       "      <td>(3, 1, 2)</td>\n",
       "      <td>1.597000</td>\n",
       "    </tr>\n",
       "    <tr>\n",
       "      <th>24</th>\n",
       "      <td>(3, 2, 0)</td>\n",
       "      <td>2.062422</td>\n",
       "    </tr>\n",
       "    <tr>\n",
       "      <th>25</th>\n",
       "      <td>(3, 2, 1)</td>\n",
       "      <td>1.509336</td>\n",
       "    </tr>\n",
       "    <tr>\n",
       "      <th>26</th>\n",
       "      <td>(3, 2, 2)</td>\n",
       "      <td>1.497138</td>\n",
       "    </tr>\n",
       "    <tr>\n",
       "      <th>27</th>\n",
       "      <td>(4, 0, 0)</td>\n",
       "      <td>1.622857</td>\n",
       "    </tr>\n",
       "    <tr>\n",
       "      <th>28</th>\n",
       "      <td>(4, 1, 0)</td>\n",
       "      <td>1.585145</td>\n",
       "    </tr>\n",
       "    <tr>\n",
       "      <th>29</th>\n",
       "      <td>(4, 1, 1)</td>\n",
       "      <td>1.646743</td>\n",
       "    </tr>\n",
       "    <tr>\n",
       "      <th>30</th>\n",
       "      <td>(4, 1, 2)</td>\n",
       "      <td>1.666643</td>\n",
       "    </tr>\n",
       "    <tr>\n",
       "      <th>31</th>\n",
       "      <td>(4, 2, 0)</td>\n",
       "      <td>1.873101</td>\n",
       "    </tr>\n",
       "    <tr>\n",
       "      <th>32</th>\n",
       "      <td>(4, 2, 1)</td>\n",
       "      <td>1.514848</td>\n",
       "    </tr>\n",
       "    <tr>\n",
       "      <th>33</th>\n",
       "      <td>(5, 0, 0)</td>\n",
       "      <td>1.634908</td>\n",
       "    </tr>\n",
       "    <tr>\n",
       "      <th>34</th>\n",
       "      <td>(5, 1, 0)</td>\n",
       "      <td>1.637312</td>\n",
       "    </tr>\n",
       "    <tr>\n",
       "      <th>35</th>\n",
       "      <td>(5, 1, 1)</td>\n",
       "      <td>1.659569</td>\n",
       "    </tr>\n",
       "    <tr>\n",
       "      <th>36</th>\n",
       "      <td>(5, 1, 2)</td>\n",
       "      <td>1.686832</td>\n",
       "    </tr>\n",
       "    <tr>\n",
       "      <th>37</th>\n",
       "      <td>(5, 2, 0)</td>\n",
       "      <td>1.768251</td>\n",
       "    </tr>\n",
       "    <tr>\n",
       "      <th>38</th>\n",
       "      <td>(5, 2, 1)</td>\n",
       "      <td>1.559774</td>\n",
       "    </tr>\n",
       "    <tr>\n",
       "      <th>39</th>\n",
       "      <td>(6, 0, 0)</td>\n",
       "      <td>1.690512</td>\n",
       "    </tr>\n",
       "    <tr>\n",
       "      <th>40</th>\n",
       "      <td>(6, 1, 0)</td>\n",
       "      <td>1.648945</td>\n",
       "    </tr>\n",
       "    <tr>\n",
       "      <th>41</th>\n",
       "      <td>(6, 1, 1)</td>\n",
       "      <td>1.651421</td>\n",
       "    </tr>\n",
       "    <tr>\n",
       "      <th>42</th>\n",
       "      <td>(6, 1, 2)</td>\n",
       "      <td>1.650438</td>\n",
       "    </tr>\n",
       "    <tr>\n",
       "      <th>43</th>\n",
       "      <td>(6, 2, 0)</td>\n",
       "      <td>1.716874</td>\n",
       "    </tr>\n",
       "    <tr>\n",
       "      <th>44</th>\n",
       "      <td>(6, 2, 1)</td>\n",
       "      <td>1.566050</td>\n",
       "    </tr>\n",
       "    <tr>\n",
       "      <th>45</th>\n",
       "      <td>(6, 2, 2)</td>\n",
       "      <td>1.569078</td>\n",
       "    </tr>\n",
       "    <tr>\n",
       "      <th>46</th>\n",
       "      <td>(7, 0, 0)</td>\n",
       "      <td>1.701752</td>\n",
       "    </tr>\n",
       "    <tr>\n",
       "      <th>47</th>\n",
       "      <td>(7, 1, 0)</td>\n",
       "      <td>1.639833</td>\n",
       "    </tr>\n",
       "    <tr>\n",
       "      <th>48</th>\n",
       "      <td>(7, 1, 1)</td>\n",
       "      <td>1.644868</td>\n",
       "    </tr>\n",
       "    <tr>\n",
       "      <th>49</th>\n",
       "      <td>(7, 1, 2)</td>\n",
       "      <td>1.649857</td>\n",
       "    </tr>\n",
       "    <tr>\n",
       "      <th>50</th>\n",
       "      <td>(7, 2, 0)</td>\n",
       "      <td>1.698848</td>\n",
       "    </tr>\n",
       "    <tr>\n",
       "      <th>51</th>\n",
       "      <td>(7, 2, 1)</td>\n",
       "      <td>1.566170</td>\n",
       "    </tr>\n",
       "    <tr>\n",
       "      <th>52</th>\n",
       "      <td>(8, 0, 0)</td>\n",
       "      <td>1.687336</td>\n",
       "    </tr>\n",
       "    <tr>\n",
       "      <th>53</th>\n",
       "      <td>(8, 1, 0)</td>\n",
       "      <td>1.682851</td>\n",
       "    </tr>\n",
       "    <tr>\n",
       "      <th>54</th>\n",
       "      <td>(8, 1, 1)</td>\n",
       "      <td>1.683853</td>\n",
       "    </tr>\n",
       "    <tr>\n",
       "      <th>55</th>\n",
       "      <td>(8, 1, 2)</td>\n",
       "      <td>1.683342</td>\n",
       "    </tr>\n",
       "    <tr>\n",
       "      <th>56</th>\n",
       "      <td>(8, 2, 0)</td>\n",
       "      <td>1.753353</td>\n",
       "    </tr>\n",
       "    <tr>\n",
       "      <th>57</th>\n",
       "      <td>(8, 2, 1)</td>\n",
       "      <td>1.594827</td>\n",
       "    </tr>\n",
       "    <tr>\n",
       "      <th>58</th>\n",
       "      <td>(8, 2, 2)</td>\n",
       "      <td>1.594195</td>\n",
       "    </tr>\n",
       "  </tbody>\n",
       "</table>\n",
       "</div>"
      ],
      "text/plain": [
       "   ARIMA Parameters           MSE\n",
       "0         (0, 0, 0)  10444.512712\n",
       "1         (0, 0, 1)   2659.157635\n",
       "2         (0, 1, 0)      1.554332\n",
       "3         (0, 1, 1)      1.580281\n",
       "4         (0, 1, 2)      1.538531\n",
       "5         (0, 2, 0)      2.977488\n",
       "6         (0, 2, 1)      1.508220\n",
       "7         (0, 2, 2)      1.522248\n",
       "8         (1, 0, 0)      1.591577\n",
       "9         (1, 1, 0)      1.579273\n",
       "10        (1, 1, 1)      1.570028\n",
       "11        (1, 1, 2)      1.572294\n",
       "12        (1, 2, 0)      2.396580\n",
       "13        (2, 0, 0)      1.619449\n",
       "14        (2, 1, 0)      1.548882\n",
       "15        (2, 1, 1)      1.576094\n",
       "16        (2, 1, 2)      1.659503\n",
       "17        (2, 2, 0)      2.327168\n",
       "18        (2, 2, 1)      1.483877\n",
       "19        (2, 2, 2)      1.516913\n",
       "20        (3, 0, 0)      1.596137\n",
       "21        (3, 1, 0)      1.575428\n",
       "22        (3, 1, 1)      1.579301\n",
       "23        (3, 1, 2)      1.597000\n",
       "24        (3, 2, 0)      2.062422\n",
       "25        (3, 2, 1)      1.509336\n",
       "26        (3, 2, 2)      1.497138\n",
       "27        (4, 0, 0)      1.622857\n",
       "28        (4, 1, 0)      1.585145\n",
       "29        (4, 1, 1)      1.646743\n",
       "30        (4, 1, 2)      1.666643\n",
       "31        (4, 2, 0)      1.873101\n",
       "32        (4, 2, 1)      1.514848\n",
       "33        (5, 0, 0)      1.634908\n",
       "34        (5, 1, 0)      1.637312\n",
       "35        (5, 1, 1)      1.659569\n",
       "36        (5, 1, 2)      1.686832\n",
       "37        (5, 2, 0)      1.768251\n",
       "38        (5, 2, 1)      1.559774\n",
       "39        (6, 0, 0)      1.690512\n",
       "40        (6, 1, 0)      1.648945\n",
       "41        (6, 1, 1)      1.651421\n",
       "42        (6, 1, 2)      1.650438\n",
       "43        (6, 2, 0)      1.716874\n",
       "44        (6, 2, 1)      1.566050\n",
       "45        (6, 2, 2)      1.569078\n",
       "46        (7, 0, 0)      1.701752\n",
       "47        (7, 1, 0)      1.639833\n",
       "48        (7, 1, 1)      1.644868\n",
       "49        (7, 1, 2)      1.649857\n",
       "50        (7, 2, 0)      1.698848\n",
       "51        (7, 2, 1)      1.566170\n",
       "52        (8, 0, 0)      1.687336\n",
       "53        (8, 1, 0)      1.682851\n",
       "54        (8, 1, 1)      1.683853\n",
       "55        (8, 1, 2)      1.683342\n",
       "56        (8, 2, 0)      1.753353\n",
       "57        (8, 2, 1)      1.594827\n",
       "58        (8, 2, 2)      1.594195"
      ]
     },
     "execution_count": 109,
     "metadata": {},
     "output_type": "execute_result"
    }
   ],
   "source": [
    "results_df = pd.DataFrame(list(results.items()),columns=['ARIMA Parameters','MSE'])"
   ]
  },
  {
   "cell_type": "code",
   "execution_count": 111,
   "metadata": {},
   "outputs": [
    {
     "data": {
      "text/html": [
       "<div>\n",
       "<style scoped>\n",
       "    .dataframe tbody tr th:only-of-type {\n",
       "        vertical-align: middle;\n",
       "    }\n",
       "\n",
       "    .dataframe tbody tr th {\n",
       "        vertical-align: top;\n",
       "    }\n",
       "\n",
       "    .dataframe thead th {\n",
       "        text-align: right;\n",
       "    }\n",
       "</style>\n",
       "<table border=\"1\" class=\"dataframe\">\n",
       "  <thead>\n",
       "    <tr style=\"text-align: right;\">\n",
       "      <th></th>\n",
       "      <th>ARIMA Parameters</th>\n",
       "      <th>MSE</th>\n",
       "    </tr>\n",
       "  </thead>\n",
       "  <tbody>\n",
       "    <tr>\n",
       "      <th>18</th>\n",
       "      <td>(2, 2, 1)</td>\n",
       "      <td>1.483877</td>\n",
       "    </tr>\n",
       "  </tbody>\n",
       "</table>\n",
       "</div>"
      ],
      "text/plain": [
       "   ARIMA Parameters       MSE\n",
       "18        (2, 2, 1)  1.483877"
      ]
     },
     "execution_count": 111,
     "metadata": {},
     "output_type": "execute_result"
    }
   ],
   "source": [
    "results_df[results_df.MSE == results_df.MSE.min()]"
   ]
  },
  {
   "cell_type": "code",
   "execution_count": 97,
   "metadata": {
    "scrolled": true
   },
   "outputs": [
    {
     "name": "stderr",
     "output_type": "stream",
     "text": [
      "C:\\Users\\Amit\\anaconda3\\lib\\site-packages\\statsmodels\\tsa\\tsatools.py:689: RuntimeWarning: overflow encountered in exp\n",
      "  newparams = ((1-np.exp(-params))/(1+np.exp(-params))).copy()\n",
      "C:\\Users\\Amit\\anaconda3\\lib\\site-packages\\statsmodels\\tsa\\tsatools.py:689: RuntimeWarning: invalid value encountered in true_divide\n",
      "  newparams = ((1-np.exp(-params))/(1+np.exp(-params))).copy()\n",
      "C:\\Users\\Amit\\anaconda3\\lib\\site-packages\\statsmodels\\tsa\\tsatools.py:690: RuntimeWarning: overflow encountered in exp\n",
      "  tmp = ((1-np.exp(-params))/(1+np.exp(-params))).copy()\n",
      "C:\\Users\\Amit\\anaconda3\\lib\\site-packages\\statsmodels\\tsa\\tsatools.py:690: RuntimeWarning: invalid value encountered in true_divide\n",
      "  tmp = ((1-np.exp(-params))/(1+np.exp(-params))).copy()\n",
      "C:\\Users\\Amit\\anaconda3\\lib\\site-packages\\statsmodels\\base\\model.py:567: ConvergenceWarning: Maximum Likelihood optimization failed to converge. Check mle_retvals\n",
      "  warn(\"Maximum Likelihood optimization failed to converge. \"\n",
      "C:\\Users\\Amit\\anaconda3\\lib\\site-packages\\statsmodels\\base\\model.py:567: ConvergenceWarning: Maximum Likelihood optimization failed to converge. Check mle_retvals\n",
      "  warn(\"Maximum Likelihood optimization failed to converge. \"\n"
     ]
    },
    {
     "name": "stdout",
     "output_type": "stream",
     "text": [
      "7.9384209335254905\n"
     ]
    }
   ],
   "source": [
    "warnings.filterwarnings('ignore')\n",
    "\n",
    "history = [x for x in training_data]\n",
    "arima_model_predictions = []\n",
    "N_test_observations = len(testing_data)\n",
    "\n",
    "for time_point in range(N_test_observations):\n",
    "    model = ARIMA(history,order=(2,2,1))\n",
    "    model_fit = model.fit(disp=False)\n",
    "    output = model_fit.forecast()\n",
    "    yhat = output[0]\n",
    "    arima_model_predictions.append(yhat)\n",
    "    true_test_value = testing_data[time_point]\n",
    "    history.append(true_test_value)\n",
    "    \n",
    "\n",
    "MSE_error = mean_squared_error(testing_data,arima_model_predictions)\n",
    "print(MSE_error)\n"
   ]
  },
  {
   "cell_type": "code",
   "execution_count": 99,
   "metadata": {},
   "outputs": [
    {
     "data": {
      "image/png": "[encoded data removed]",
      "text/plain": [
       "<Figure size 432x288 with 1 Axes>"
      ]
     },
     "metadata": {
      "needs_background": "light"
     },
     "output_type": "display_data"
    }
   ],
   "source": [
    "test_set_range = test['Microsoft'].index\n",
    "\n",
    "plt.plot(test_set_range,testing_data,color='blue',label='Test')\n",
    "plt.plot(test_set_range,arima_model_predictions,color='red',label='Prediction')\n",
    "plt.xticks(rotation=45)\n",
    "plt.legend()\n",
    "plt.show()"
   ]
  },
  {
   "cell_type": "code",
   "execution_count": 100,
   "metadata": {},
   "outputs": [
    {
     "name": "stdout",
     "output_type": "stream",
     "text": [
      "Mean Absolute Error:  3.3491178026245128\n",
      "Root Mean Squared Error:  4.6286050631373445\n"
     ]
    }
   ],
   "source": [
    "print('Mean Absolute Error: ',mean_absolute_error(y_test,arima_model_predictions))\n",
    "print('Root Mean Squared Error: ',np.sqrt(mean_squared_error(y_test,arima_model_predictions)))"
   ]
  }
 ],
 "metadata": {
  "kernelspec": {
   "display_name": "Python 3",
   "language": "python",
   "name": "python3"
  },
  "language_info": {
   "codemirror_mode": {
    "name": "ipython",
    "version": 3
   },
   "file_extension": ".py",
   "mimetype": "text/x-python",
   "name": "python",
   "nbconvert_exporter": "python",
   "pygments_lexer": "ipython3",
   "version": "3.8.3"
  }
 },
 "nbformat": 4,
 "nbformat_minor": 4
}
