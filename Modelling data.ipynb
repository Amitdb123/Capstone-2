{
 "cells": [
  {
   "cell_type": "code",
   "execution_count": 1,
   "metadata": {},
   "outputs": [],
   "source": [
    "import numpy as np\n",
    "import pandas as pd\n",
    "import seaborn as sns\n",
    "import matplotlib.pyplot as plt"
   ]
  },
  {
   "cell_type": "markdown",
   "metadata": {},
   "source": [
    "<font color='red'>Prior to modelling the data, I will first take a look at cointegrated companies by comparing their adjusted close price. Firstly by checking that each companies adjusted close price follows a random walk and secondly checking for cointegration.</font>"
   ]
  },
  {
   "cell_type": "code",
   "execution_count": 2,
   "metadata": {},
   "outputs": [
    {
     "data": {
      "text/html": [
       "<div>\n",
       "<style scoped>\n",
       "    .dataframe tbody tr th:only-of-type {\n",
       "        vertical-align: middle;\n",
       "    }\n",
       "\n",
       "    .dataframe tbody tr th {\n",
       "        vertical-align: top;\n",
       "    }\n",
       "\n",
       "    .dataframe thead th {\n",
       "        text-align: right;\n",
       "    }\n",
       "</style>\n",
       "<table border=\"1\" class=\"dataframe\">\n",
       "  <thead>\n",
       "    <tr style=\"text-align: right;\">\n",
       "      <th></th>\n",
       "      <th>Date</th>\n",
       "      <th>Apple</th>\n",
       "      <th>Google</th>\n",
       "      <th>Hp</th>\n",
       "      <th>Microsoft</th>\n",
       "      <th>Sony</th>\n",
       "    </tr>\n",
       "  </thead>\n",
       "  <tbody>\n",
       "    <tr>\n",
       "      <th>0</th>\n",
       "      <td>2010-01-04</td>\n",
       "      <td>26.419203</td>\n",
       "      <td>313.688690</td>\n",
       "      <td>18.160637</td>\n",
       "      <td>24.168472</td>\n",
       "      <td>27.184526</td>\n",
       "    </tr>\n",
       "    <tr>\n",
       "      <th>1</th>\n",
       "      <td>2010-01-05</td>\n",
       "      <td>26.464878</td>\n",
       "      <td>312.307312</td>\n",
       "      <td>18.236814</td>\n",
       "      <td>24.176279</td>\n",
       "      <td>27.057753</td>\n",
       "    </tr>\n",
       "    <tr>\n",
       "      <th>2</th>\n",
       "      <td>2010-01-06</td>\n",
       "      <td>26.043921</td>\n",
       "      <td>304.434448</td>\n",
       "      <td>18.067152</td>\n",
       "      <td>24.027906</td>\n",
       "      <td>27.030584</td>\n",
       "    </tr>\n",
       "    <tr>\n",
       "      <th>3</th>\n",
       "      <td>2010-01-07</td>\n",
       "      <td>25.995777</td>\n",
       "      <td>297.347351</td>\n",
       "      <td>18.074080</td>\n",
       "      <td>23.778025</td>\n",
       "      <td>26.985306</td>\n",
       "    </tr>\n",
       "    <tr>\n",
       "      <th>4</th>\n",
       "      <td>2010-01-08</td>\n",
       "      <td>26.168606</td>\n",
       "      <td>301.311310</td>\n",
       "      <td>18.209112</td>\n",
       "      <td>23.942017</td>\n",
       "      <td>27.537689</td>\n",
       "    </tr>\n",
       "  </tbody>\n",
       "</table>\n",
       "</div>"
      ],
      "text/plain": [
       "         Date      Apple      Google         Hp  Microsoft       Sony\n",
       "0  2010-01-04  26.419203  313.688690  18.160637  24.168472  27.184526\n",
       "1  2010-01-05  26.464878  312.307312  18.236814  24.176279  27.057753\n",
       "2  2010-01-06  26.043921  304.434448  18.067152  24.027906  27.030584\n",
       "3  2010-01-07  25.995777  297.347351  18.074080  23.778025  26.985306\n",
       "4  2010-01-08  26.168606  301.311310  18.209112  23.942017  27.537689"
      ]
     },
     "execution_count": 2,
     "metadata": {},
     "output_type": "execute_result"
    }
   ],
   "source": [
    "aj = pd.read_csv('data/Adjusted close.csv')\n",
    "aj.head()"
   ]
  },
  {
   "cell_type": "code",
   "execution_count": 3,
   "metadata": {},
   "outputs": [
    {
     "name": "stdout",
     "output_type": "stream",
     "text": [
      "<class 'pandas.core.frame.DataFrame'>\n",
      "RangeIndex: 2572 entries, 0 to 2571\n",
      "Data columns (total 6 columns):\n",
      " #   Column     Non-Null Count  Dtype  \n",
      "---  ------     --------------  -----  \n",
      " 0   Date       2572 non-null   object \n",
      " 1   Apple      2572 non-null   float64\n",
      " 2   Google     2572 non-null   float64\n",
      " 3   Hp         2572 non-null   float64\n",
      " 4   Microsoft  2572 non-null   float64\n",
      " 5   Sony       2572 non-null   float64\n",
      "dtypes: float64(5), object(1)\n",
      "memory usage: 120.7+ KB\n"
     ]
    }
   ],
   "source": [
    "aj.info()"
   ]
  },
  {
   "cell_type": "code",
   "execution_count": 4,
   "metadata": {},
   "outputs": [
    {
     "name": "stdout",
     "output_type": "stream",
     "text": [
      "<class 'pandas.core.frame.DataFrame'>\n",
      "RangeIndex: 2572 entries, 0 to 2571\n",
      "Data columns (total 6 columns):\n",
      " #   Column     Non-Null Count  Dtype         \n",
      "---  ------     --------------  -----         \n",
      " 0   Date       2572 non-null   datetime64[ns]\n",
      " 1   Apple      2572 non-null   float64       \n",
      " 2   Google     2572 non-null   float64       \n",
      " 3   Hp         2572 non-null   float64       \n",
      " 4   Microsoft  2572 non-null   float64       \n",
      " 5   Sony       2572 non-null   float64       \n",
      "dtypes: datetime64[ns](1), float64(5)\n",
      "memory usage: 120.7 KB\n"
     ]
    }
   ],
   "source": [
    "# convert date column in aj into a datetime object\n",
    "\n",
    "aj['Date'] = aj['Date'].apply(pd.to_datetime)\n",
    "aj.info()"
   ]
  },
  {
   "cell_type": "code",
   "execution_count": 5,
   "metadata": {},
   "outputs": [
    {
     "data": {
      "image/png": "[encoded data removed]",
      "text/plain": [
       "<Figure size 432x288 with 1 Axes>"
      ]
     },
     "metadata": {
      "needs_background": "light"
     },
     "output_type": "display_data"
    }
   ],
   "source": [
    "#plots of adjusted closing price for each compaany\n",
    "for column in aj.columns[1:]:\n",
    "    plt.plot('Date',column,data=aj)\n",
    "_ = plt.title('Adjusted Closing Price')\n",
    "_ = plt.xlabel('Year')\n",
    "_ = plt.ylabel('Adjusted closing price USD')\n",
    "plt.legend()\n",
    "plt.show()"
   ]
  },
  {
   "cell_type": "code",
   "execution_count": 6,
   "metadata": {},
   "outputs": [
    {
     "name": "stdout",
     "output_type": "stream",
     "text": [
      "The p-value for the ADF test on Apple is 0.5154623180488823\n",
      "The p-value for the ADF test on Google is 0.7264308153541197\n",
      "The p-value for the ADF test on Hp is 0.41153994597512167\n",
      "The p-value for the ADF test on Microsoft is 0.9946890919673206\n",
      "The p-value for the ADF test on Sony is 0.8541331937209464\n"
     ]
    }
   ],
   "source": [
    "#firstly check to see that the adjusted closing price follows a random walk.\n",
    "from statsmodels.tsa.stattools import adfuller\n",
    "\n",
    "for column in aj.columns[1:]:\n",
    "    result = adfuller(aj[column])\n",
    "    print(\"The p-value for the ADF test on {} is {}\".format(column,result[1]))"
   ]
  },
  {
   "cell_type": "markdown",
   "metadata": {},
   "source": [
    "<font color='red'>With a 99% confidence interval, all observations of the adjusted closing price follow a random walk .</font>"
   ]
  },
  {
   "cell_type": "code",
   "execution_count": 7,
   "metadata": {},
   "outputs": [
    {
     "data": {
      "text/html": [
       "<div>\n",
       "<style scoped>\n",
       "    .dataframe tbody tr th:only-of-type {\n",
       "        vertical-align: middle;\n",
       "    }\n",
       "\n",
       "    .dataframe tbody tr th {\n",
       "        vertical-align: top;\n",
       "    }\n",
       "\n",
       "    .dataframe thead th {\n",
       "        text-align: right;\n",
       "    }\n",
       "</style>\n",
       "<table border=\"1\" class=\"dataframe\">\n",
       "  <thead>\n",
       "    <tr style=\"text-align: right;\">\n",
       "      <th></th>\n",
       "      <th>Apple</th>\n",
       "      <th>Google</th>\n",
       "      <th>Hp</th>\n",
       "      <th>Microsoft</th>\n",
       "      <th>Sony</th>\n",
       "    </tr>\n",
       "    <tr>\n",
       "      <th>Date</th>\n",
       "      <th></th>\n",
       "      <th></th>\n",
       "      <th></th>\n",
       "      <th></th>\n",
       "      <th></th>\n",
       "    </tr>\n",
       "  </thead>\n",
       "  <tbody>\n",
       "    <tr>\n",
       "      <th>2010-01-04</th>\n",
       "      <td>26.419203</td>\n",
       "      <td>313.688690</td>\n",
       "      <td>18.160637</td>\n",
       "      <td>24.168472</td>\n",
       "      <td>27.184526</td>\n",
       "    </tr>\n",
       "    <tr>\n",
       "      <th>2010-01-05</th>\n",
       "      <td>26.464878</td>\n",
       "      <td>312.307312</td>\n",
       "      <td>18.236814</td>\n",
       "      <td>24.176279</td>\n",
       "      <td>27.057753</td>\n",
       "    </tr>\n",
       "    <tr>\n",
       "      <th>2010-01-06</th>\n",
       "      <td>26.043921</td>\n",
       "      <td>304.434448</td>\n",
       "      <td>18.067152</td>\n",
       "      <td>24.027906</td>\n",
       "      <td>27.030584</td>\n",
       "    </tr>\n",
       "    <tr>\n",
       "      <th>2010-01-07</th>\n",
       "      <td>25.995777</td>\n",
       "      <td>297.347351</td>\n",
       "      <td>18.074080</td>\n",
       "      <td>23.778025</td>\n",
       "      <td>26.985306</td>\n",
       "    </tr>\n",
       "    <tr>\n",
       "      <th>2010-01-08</th>\n",
       "      <td>26.168606</td>\n",
       "      <td>301.311310</td>\n",
       "      <td>18.209112</td>\n",
       "      <td>23.942017</td>\n",
       "      <td>27.537689</td>\n",
       "    </tr>\n",
       "  </tbody>\n",
       "</table>\n",
       "</div>"
      ],
      "text/plain": [
       "                Apple      Google         Hp  Microsoft       Sony\n",
       "Date                                                              \n",
       "2010-01-04  26.419203  313.688690  18.160637  24.168472  27.184526\n",
       "2010-01-05  26.464878  312.307312  18.236814  24.176279  27.057753\n",
       "2010-01-06  26.043921  304.434448  18.067152  24.027906  27.030584\n",
       "2010-01-07  25.995777  297.347351  18.074080  23.778025  26.985306\n",
       "2010-01-08  26.168606  301.311310  18.209112  23.942017  27.537689"
      ]
     },
     "execution_count": 7,
     "metadata": {},
     "output_type": "execute_result"
    }
   ],
   "source": [
    "# set date as index\n",
    "aj = aj.set_index('Date')\n",
    "aj.head()"
   ]
  },
  {
   "cell_type": "code",
   "execution_count": 8,
   "metadata": {},
   "outputs": [
    {
     "data": {
      "image/png": "[encoded data removed]",
      "text/plain": [
       "<Figure size 432x288 with 1 Axes>"
      ]
     },
     "metadata": {
      "needs_background": "light"
     },
     "output_type": "display_data"
    },
    {
     "name": "stdout",
     "output_type": "stream",
     "text": [
      "     0          1\n",
      "0  PC1     Google\n",
      "1  PC2         Hp\n",
      "2  PC3     Google\n",
      "3  PC4      Apple\n",
      "4  PC5  Microsoft\n"
     ]
    }
   ],
   "source": [
    "# perform PCA on the data to analyse the less informative features\n",
    "\n",
    "from sklearn.decomposition import PCA\n",
    "from sklearn.pipeline import make_pipeline \n",
    "from sklearn.preprocessing import MinMaxScaler\n",
    "\n",
    "new_df = aj[['Apple', 'Google', 'Hp', 'Microsoft', 'Sony']]\n",
    "initial_feature_names = ['Apple', 'Google', 'Hp', 'Microsoft', 'Sony']\n",
    "\n",
    "scaler = MinMaxScaler()\n",
    "pca = PCA()\n",
    "\n",
    "pipeline = make_pipeline(scaler,pca)\n",
    "pipeline.fit(aj.values)\n",
    "\n",
    "n_pcs = pca.components_.shape[0]\n",
    "\n",
    "\n",
    "# to find out the most important features in order\n",
    "\n",
    "most_important = [np.abs(pca.components_[i]).argmax() for i in range(n_pcs)]\n",
    "most_important_names = [initial_feature_names[most_important[i]] for i in range(n_pcs)]\n",
    "dic = {'PC{}'.format(i+1): most_important_names[i] for i in range(n_pcs)}\n",
    "df = pd.DataFrame(sorted(dic.items()))\n",
    "\n",
    "\n",
    "features = range(pca.n_components_)\n",
    "\n",
    "_ = plt.bar(features,pca.explained_variance_)\n",
    "_ = plt.xticks(features)\n",
    "_ = plt.ylabel('variance')\n",
    "\n",
    "plt.show()\n",
    "print(df)"
   ]
  },
  {
   "cell_type": "markdown",
   "metadata": {},
   "source": [
    "<font color='red'> From the PCA, only google shows a significant amount of variance. Next I will perform the augmented adfuller test between each company and Microsoft to see if they are cointegrated."
   ]
  },
  {
   "cell_type": "code",
   "execution_count": 9,
   "metadata": {},
   "outputs": [
    {
     "name": "stdout",
     "output_type": "stream",
     "text": [
      "Between Google and Microsoft\n",
      "The p-value for the ADF test is  0.7652989423827379\n"
     ]
    }
   ],
   "source": [
    "#test to see cointegration between Google and Microsoft\n",
    "import statsmodels.api as sm\n",
    "\n",
    "MSFT = aj[['Microsoft']]\n",
    "GOOGLE = aj[['Google']]\n",
    "\n",
    "MSFT = sm.add_constant(MSFT)\n",
    "result = sm.OLS(GOOGLE,MSFT).fit()\n",
    "\n",
    "#value of the gradient \n",
    "const = result.params[1]\n",
    "adf_g = adfuller(aj['Google'] - const*aj['Microsoft'])\n",
    "print('Between Google and Microsoft')\n",
    "print('The p-value for the ADF test is ', adf_g[1])"
   ]
  },
  {
   "cell_type": "code",
   "execution_count": 10,
   "metadata": {},
   "outputs": [
    {
     "name": "stdout",
     "output_type": "stream",
     "text": [
      "Between Apple and Microsoft\n",
      "The p-value for the ADF test is  0.2965132352305258\n"
     ]
    }
   ],
   "source": [
    "# test to see cointegration between Apple and Microsoft\n",
    "\n",
    "APPLE = aj[['Apple']]\n",
    "\n",
    "MSFT = sm.add_constant(MSFT)\n",
    "result = sm.OLS(APPLE,MSFT).fit()\n",
    "\n",
    "#value of the gradient \n",
    "const = result.params[1]\n",
    "adf_a = adfuller(aj['Microsoft'] - const*aj['Apple'])\n",
    "print('Between Apple and Microsoft')\n",
    "print('The p-value for the ADF test is ', adf_a[1])"
   ]
  },
  {
   "cell_type": "code",
   "execution_count": 11,
   "metadata": {},
   "outputs": [
    {
     "name": "stdout",
     "output_type": "stream",
     "text": [
      "Between Hp and Microsoft\n",
      "The p-value for the ADF test is  0.2873156624411061\n"
     ]
    }
   ],
   "source": [
    "# test to see cointegration between Microsoft and Hp\n",
    "\n",
    "HP = aj[['Hp']]\n",
    "\n",
    "MSFT = sm.add_constant(MSFT)\n",
    "result = sm.OLS(HP,MSFT).fit()\n",
    "\n",
    "#value of the gradient \n",
    "const = result.params[1]\n",
    "adf_h = adfuller(aj['Hp'] - const*aj['Microsoft'])\n",
    "print('Between Hp and Microsoft')\n",
    "print('The p-value for the ADF test is ', adf_h[1])"
   ]
  },
  {
   "cell_type": "code",
   "execution_count": 12,
   "metadata": {},
   "outputs": [
    {
     "name": "stdout",
     "output_type": "stream",
     "text": [
      "Between Sony and Microsoft\n",
      "The p-value for the ADF test is  0.15472735293282103\n"
     ]
    }
   ],
   "source": [
    "# test to see cointegration between Microsoft and Sony\n",
    "\n",
    "SONY = aj[['Sony']]\n",
    "\n",
    "MSFT = sm.add_constant(MSFT)\n",
    "result = sm.OLS(SONY,MSFT).fit()\n",
    "\n",
    "#value of the gradient \n",
    "const = result.params[1]\n",
    "adf_s = adfuller(aj['Sony'] - const*aj['Microsoft'])\n",
    "print('Between Sony and Microsoft')\n",
    "print('The p-value for the ADF test is ', adf_s[1])"
   ]
  },
  {
   "cell_type": "code",
   "execution_count": 13,
   "metadata": {},
   "outputs": [
    {
     "data": {
      "text/html": [
       "<div>\n",
       "<style scoped>\n",
       "    .dataframe tbody tr th:only-of-type {\n",
       "        vertical-align: middle;\n",
       "    }\n",
       "\n",
       "    .dataframe tbody tr th {\n",
       "        vertical-align: top;\n",
       "    }\n",
       "\n",
       "    .dataframe thead th {\n",
       "        text-align: right;\n",
       "    }\n",
       "</style>\n",
       "<table border=\"1\" class=\"dataframe\">\n",
       "  <thead>\n",
       "    <tr style=\"text-align: right;\">\n",
       "      <th></th>\n",
       "      <th>Google</th>\n",
       "      <th>Apple</th>\n",
       "      <th>Hp</th>\n",
       "      <th>Sony</th>\n",
       "    </tr>\n",
       "  </thead>\n",
       "  <tbody>\n",
       "    <tr>\n",
       "      <th>P-value</th>\n",
       "      <td>0.765</td>\n",
       "      <td>0.297</td>\n",
       "      <td>0.287</td>\n",
       "      <td>0.155</td>\n",
       "    </tr>\n",
       "  </tbody>\n",
       "</table>\n",
       "</div>"
      ],
      "text/plain": [
       "         Google  Apple     Hp   Sony\n",
       "P-value   0.765  0.297  0.287  0.155"
      ]
     },
     "execution_count": 13,
     "metadata": {},
     "output_type": "execute_result"
    }
   ],
   "source": [
    "# cointegration values of each company compared with microsoft\n",
    "\n",
    "p_val_com = {'Google':[round(adf_g[1],3)],'Apple':[round(adf_a[1],3)],'Hp':[round(adf_h[1],3)],'Sony':[round(adf_s[1],3)]}\n",
    "cointegration_df = pd.DataFrame(p_val_com,index=['P-value'])\n",
    "cointegration_df"
   ]
  },
  {
   "cell_type": "markdown",
   "metadata": {},
   "source": [
    "<font color='red'> By comparing Microsoft with each company, no company shows a statistically significant cointegration value. From the results of the adfuller test and PCA, all features will be removed from the dataset.</font>"
   ]
  },
  {
   "cell_type": "code",
   "execution_count": 14,
   "metadata": {},
   "outputs": [
    {
     "data": {
      "text/html": [
       "<div>\n",
       "<style scoped>\n",
       "    .dataframe tbody tr th:only-of-type {\n",
       "        vertical-align: middle;\n",
       "    }\n",
       "\n",
       "    .dataframe tbody tr th {\n",
       "        vertical-align: top;\n",
       "    }\n",
       "\n",
       "    .dataframe thead th {\n",
       "        text-align: right;\n",
       "    }\n",
       "</style>\n",
       "<table border=\"1\" class=\"dataframe\">\n",
       "  <thead>\n",
       "    <tr style=\"text-align: right;\">\n",
       "      <th></th>\n",
       "      <th>Microsoft</th>\n",
       "    </tr>\n",
       "    <tr>\n",
       "      <th>Date</th>\n",
       "      <th></th>\n",
       "    </tr>\n",
       "  </thead>\n",
       "  <tbody>\n",
       "    <tr>\n",
       "      <th>2010-01-04</th>\n",
       "      <td>24.168472</td>\n",
       "    </tr>\n",
       "    <tr>\n",
       "      <th>2010-01-05</th>\n",
       "      <td>24.176279</td>\n",
       "    </tr>\n",
       "    <tr>\n",
       "      <th>2010-01-06</th>\n",
       "      <td>24.027906</td>\n",
       "    </tr>\n",
       "    <tr>\n",
       "      <th>2010-01-07</th>\n",
       "      <td>23.778025</td>\n",
       "    </tr>\n",
       "    <tr>\n",
       "      <th>2010-01-08</th>\n",
       "      <td>23.942017</td>\n",
       "    </tr>\n",
       "  </tbody>\n",
       "</table>\n",
       "</div>"
      ],
      "text/plain": [
       "            Microsoft\n",
       "Date                 \n",
       "2010-01-04  24.168472\n",
       "2010-01-05  24.176279\n",
       "2010-01-06  24.027906\n",
       "2010-01-07  23.778025\n",
       "2010-01-08  23.942017"
      ]
     },
     "execution_count": 14,
     "metadata": {},
     "output_type": "execute_result"
    }
   ],
   "source": [
    "MSFT = MSFT.drop('const',1)\n",
    "MSFT.head()"
   ]
  },
  {
   "cell_type": "markdown",
   "metadata": {},
   "source": [
    "<b> <font color='green'>PREPROCESSING</b> "
   ]
  },
  {
   "cell_type": "code",
   "execution_count": 15,
   "metadata": {},
   "outputs": [
    {
     "data": {
      "image/png": "[encoded data removed]",
      "text/plain": [
       "<Figure size 432x288 with 1 Axes>"
      ]
     },
     "metadata": {
      "needs_background": "light"
     },
     "output_type": "display_data"
    },
    {
     "data": {
      "image/png": "[encoded data removed]",
      "text/plain": [
       "<Figure size 432x288 with 1 Axes>"
      ]
     },
     "metadata": {
      "needs_background": "light"
     },
     "output_type": "display_data"
    }
   ],
   "source": [
    "#ACF : ckecks to see if there is a the previos time step has an impact on the next time step\n",
    "#PCF : see which lag has an impact on the next time step.\n",
    "from statsmodels.graphics.tsaplots import plot_pacf, plot_acf\n",
    "\n",
    "_ = plot_acf(MSFT['Microsoft'],lags=30)\n",
    "_ = plot_pacf(MSFT['Microsoft'],lags=30)"
   ]
  },
  {
   "cell_type": "code",
   "execution_count": 16,
   "metadata": {},
   "outputs": [],
   "source": [
    "shift_days = 1\n",
    "forecast_days = 30\n",
    "MSFT['predictions'] = MSFT['Microsoft'].shift(-shift_days)"
   ]
  },
  {
   "cell_type": "code",
   "execution_count": 17,
   "metadata": {},
   "outputs": [],
   "source": [
    "MSFT = MSFT.dropna()"
   ]
  },
  {
   "cell_type": "code",
   "execution_count": 18,
   "metadata": {},
   "outputs": [
    {
     "data": {
      "text/html": [
       "<div>\n",
       "<style scoped>\n",
       "    .dataframe tbody tr th:only-of-type {\n",
       "        vertical-align: middle;\n",
       "    }\n",
       "\n",
       "    .dataframe tbody tr th {\n",
       "        vertical-align: top;\n",
       "    }\n",
       "\n",
       "    .dataframe thead th {\n",
       "        text-align: right;\n",
       "    }\n",
       "</style>\n",
       "<table border=\"1\" class=\"dataframe\">\n",
       "  <thead>\n",
       "    <tr style=\"text-align: right;\">\n",
       "      <th></th>\n",
       "      <th>Microsoft</th>\n",
       "      <th>predictions</th>\n",
       "    </tr>\n",
       "    <tr>\n",
       "      <th>Date</th>\n",
       "      <th></th>\n",
       "      <th></th>\n",
       "    </tr>\n",
       "  </thead>\n",
       "  <tbody>\n",
       "    <tr>\n",
       "      <th>2020-03-16</th>\n",
       "      <td>134.718231</td>\n",
       "      <td>145.810471</td>\n",
       "    </tr>\n",
       "    <tr>\n",
       "      <th>2020-03-17</th>\n",
       "      <td>145.810471</td>\n",
       "      <td>139.672424</td>\n",
       "    </tr>\n",
       "    <tr>\n",
       "      <th>2020-03-18</th>\n",
       "      <td>139.672424</td>\n",
       "      <td>141.970474</td>\n",
       "    </tr>\n",
       "    <tr>\n",
       "      <th>2020-03-19</th>\n",
       "      <td>141.970474</td>\n",
       "      <td>136.638245</td>\n",
       "    </tr>\n",
       "    <tr>\n",
       "      <th>2020-03-20</th>\n",
       "      <td>136.638245</td>\n",
       "      <td>135.275345</td>\n",
       "    </tr>\n",
       "  </tbody>\n",
       "</table>\n",
       "</div>"
      ],
      "text/plain": [
       "             Microsoft  predictions\n",
       "Date                               \n",
       "2020-03-16  134.718231   145.810471\n",
       "2020-03-17  145.810471   139.672424\n",
       "2020-03-18  139.672424   141.970474\n",
       "2020-03-19  141.970474   136.638245\n",
       "2020-03-20  136.638245   135.275345"
      ]
     },
     "execution_count": 18,
     "metadata": {},
     "output_type": "execute_result"
    }
   ],
   "source": [
    "MSFT.tail()"
   ]
  },
  {
   "cell_type": "code",
   "execution_count": 19,
   "metadata": {},
   "outputs": [],
   "source": [
    "X,y = MSFT[['Microsoft']].values, MSFT[['predictions']].values\n",
    "X_train,X_test = MSFT[['Microsoft']].values[:-forecast_days], MSFT[['Microsoft']].values[-forecast_days:]\n",
    "\n",
    "y_train,y_test = MSFT[['predictions']].values[:-forecast_days], MSFT[['predictions']].values[-forecast_days:]"
   ]
  },
  {
   "cell_type": "code",
   "execution_count": 57,
   "metadata": {},
   "outputs": [
    {
     "data": {
      "text/plain": [
       "30"
      ]
     },
     "execution_count": 57,
     "metadata": {},
     "output_type": "execute_result"
    }
   ],
   "source": [
    "len(y)"
   ]
  },
  {
   "cell_type": "markdown",
   "metadata": {},
   "source": [
    "<b> <font color='green'>----------MODELLING-----------</b> "
   ]
  },
  {
   "cell_type": "markdown",
   "metadata": {},
   "source": [
    "<font color='red'> For the modelling section, I will cover Linear Regression, XGBoost and LSTM. For each model the hyperparameters will be tuned and a metrics will be calculated to determine if the model is able to make an accurate prediction on unseen data.</font>\n"
   ]
  },
  {
   "cell_type": "markdown",
   "metadata": {},
   "source": [
    "<font color='blue'> Linear Regression</font>\n"
   ]
  },
  {
   "cell_type": "code",
   "execution_count": 20,
   "metadata": {},
   "outputs": [
    {
     "name": "stdout",
     "output_type": "stream",
     "text": [
      "Fitting 5 folds for each of 64 candidates, totalling 320 fits\n"
     ]
    },
    {
     "name": "stderr",
     "output_type": "stream",
     "text": [
      "[Parallel(n_jobs=1)]: Using backend SequentialBackend with 1 concurrent workers.\n"
     ]
    },
    {
     "name": "stdout",
     "output_type": "stream",
     "text": [
      "Best parameters found:  {'lin_reg__fit_intercept': False, 'poly__degree': 1, 'poly__include_bias': False, 'poly__interaction_only': False, 'poly__order': 'C'}\n",
      "Lowest RMSE found:  0.769955164991486\n"
     ]
    },
    {
     "name": "stderr",
     "output_type": "stream",
     "text": [
      "[Parallel(n_jobs=1)]: Done 320 out of 320 | elapsed:    0.6s finished\n"
     ]
    }
   ],
   "source": [
    "# first model will be multiple linear regression \n",
    "from sklearn.linear_model import LinearRegression \n",
    "from sklearn.preprocessing import PolynomialFeatures\n",
    "from sklearn.model_selection import GridSearchCV, TimeSeriesSplit\n",
    "from sklearn.pipeline import Pipeline \n",
    "\n",
    "LR = LinearRegression()\n",
    "PF = PolynomialFeatures()\n",
    "time_splitter_inner = TimeSeriesSplit(n_splits=5)\n",
    "\n",
    "\n",
    "steps = [('poly',PF),\n",
    "         ('lin_reg',LR)]\n",
    "\n",
    "pipeline = Pipeline(steps)\n",
    "params = {'poly__degree':[1,2,3,4],\n",
    "          'poly__interaction_only':[False,True],\n",
    "          'poly__include_bias': [False,True],\n",
    "          'poly__order':['C','F'],\n",
    "          'lin_reg__fit_intercept':[True,False]\n",
    "}\n",
    "\n",
    "gs_cv = GridSearchCV(pipeline, param_grid=params,\n",
    "                     scoring='neg_mean_absolute_error', \n",
    "                     cv=time_splitter_inner, verbose=1)\n",
    "\n",
    "gs_cv.fit(X_train,y_train)\n",
    "\n",
    "print(\"Best parameters found: \", gs_cv.best_params_)\n",
    "print(\"Lowest RMSE found: \", np.sqrt(np.abs(gs_cv.best_score_)))"
   ]
  },
  {
   "cell_type": "code",
   "execution_count": 21,
   "metadata": {},
   "outputs": [
    {
     "data": {
      "image/png": "[encoded data removed]",
      "text/plain": [
       "<Figure size 432x288 with 1 Axes>"
      ]
     },
     "metadata": {
      "needs_background": "light"
     },
     "output_type": "display_data"
    }
   ],
   "source": [
    "LR = LinearRegression(fit_intercept=False)\n",
    "PF = PolynomialFeatures(degree=1, include_bias=False, interaction_only=False, order='C')\n",
    "\n",
    "steps = [('poly',PF),\n",
    "        ('lin_reg',LR)]\n",
    "\n",
    "pipeline = Pipeline(steps)\n",
    "pipeline.fit(X_train,y_train)\n",
    "lr_y_pred = pipeline.predict(X_test)\n",
    "\n",
    "#plt.plot([None for i in y_train] + [x for x in y_test])\n",
    "test_range = MSFT[['Microsoft']][-forecast_days:].index\n",
    "\n",
    "_ = plt.plot(test_range,lr_y_pred,label= 'Prediction',color='red')\n",
    "_ = plt.plot(test_range,y_test,label= 'Test',color='blue')\n",
    "_ = plt.xticks(rotation=45)\n",
    "_ = plt.title('Linear Regression Prediction and Test Results')\n",
    "_ = plt.legend()"
   ]
  },
  {
   "cell_type": "code",
   "execution_count": 22,
   "metadata": {},
   "outputs": [
    {
     "name": "stdout",
     "output_type": "stream",
     "text": [
      "Mean Absolute Error:  6.607197567870073\n",
      "Root Mean Squared Error:  8.592487017683471\n"
     ]
    }
   ],
   "source": [
    "#metrics MAE,RMSE\n",
    "from sklearn.metrics import mean_absolute_error,mean_squared_error, accuracy_score\n",
    "\n",
    "\n",
    "print('Mean Absolute Error: ',mean_absolute_error(y_test,lr_y_pred))\n",
    "print('Root Mean Squared Error: ',np.sqrt(mean_squared_error(y_test,lr_y_pred)))"
   ]
  },
  {
   "cell_type": "markdown",
   "metadata": {},
   "source": [
    "<font color='blue'> XGBoost</font>\n"
   ]
  },
  {
   "cell_type": "code",
   "execution_count": 65,
   "metadata": {},
   "outputs": [
    {
     "data": {
      "text/html": [
       "<div>\n",
       "<style scoped>\n",
       "    .dataframe tbody tr th:only-of-type {\n",
       "        vertical-align: middle;\n",
       "    }\n",
       "\n",
       "    .dataframe tbody tr th {\n",
       "        vertical-align: top;\n",
       "    }\n",
       "\n",
       "    .dataframe thead th {\n",
       "        text-align: right;\n",
       "    }\n",
       "</style>\n",
       "<table border=\"1\" class=\"dataframe\">\n",
       "  <thead>\n",
       "    <tr style=\"text-align: right;\">\n",
       "      <th></th>\n",
       "      <th>Microsoft</th>\n",
       "      <th>predictions</th>\n",
       "    </tr>\n",
       "    <tr>\n",
       "      <th>Date</th>\n",
       "      <th></th>\n",
       "      <th></th>\n",
       "    </tr>\n",
       "  </thead>\n",
       "  <tbody>\n",
       "    <tr>\n",
       "      <th>2010-01-04</th>\n",
       "      <td>24.168472</td>\n",
       "      <td>24.176279</td>\n",
       "    </tr>\n",
       "    <tr>\n",
       "      <th>2010-01-05</th>\n",
       "      <td>24.176279</td>\n",
       "      <td>24.027906</td>\n",
       "    </tr>\n",
       "    <tr>\n",
       "      <th>2010-01-06</th>\n",
       "      <td>24.027906</td>\n",
       "      <td>23.778025</td>\n",
       "    </tr>\n",
       "    <tr>\n",
       "      <th>2010-01-07</th>\n",
       "      <td>23.778025</td>\n",
       "      <td>23.942017</td>\n",
       "    </tr>\n",
       "    <tr>\n",
       "      <th>2010-01-08</th>\n",
       "      <td>23.942017</td>\n",
       "      <td>23.637472</td>\n",
       "    </tr>\n",
       "  </tbody>\n",
       "</table>\n",
       "</div>"
      ],
      "text/plain": [
       "            Microsoft  predictions\n",
       "Date                              \n",
       "2010-01-04  24.168472    24.176279\n",
       "2010-01-05  24.176279    24.027906\n",
       "2010-01-06  24.027906    23.778025\n",
       "2010-01-07  23.778025    23.942017\n",
       "2010-01-08  23.942017    23.637472"
      ]
     },
     "execution_count": 65,
     "metadata": {},
     "output_type": "execute_result"
    }
   ],
   "source": [
    "MSFT.head()"
   ]
  },
  {
   "cell_type": "code",
   "execution_count": 66,
   "metadata": {},
   "outputs": [],
   "source": [
    "X_xgb = MSFT.Microsoft.values.reshape(-1,1)\n",
    "y_xgb = MSFT.predictions.values.reshape(-1,1)"
   ]
  },
  {
   "cell_type": "code",
   "execution_count": 76,
   "metadata": {},
   "outputs": [
    {
     "name": "stdout",
     "output_type": "stream",
     "text": [
      "Fitting 5 folds for each of 60 candidates, totalling 300 fits\n"
     ]
    },
    {
     "name": "stderr",
     "output_type": "stream",
     "text": [
      "[Parallel(n_jobs=-1)]: Using backend LokyBackend with 12 concurrent workers.\n",
      "[Parallel(n_jobs=-1)]: Done  26 tasks      | elapsed:    5.3s\n",
      "[Parallel(n_jobs=-1)]: Done 176 tasks      | elapsed:   16.0s\n",
      "[Parallel(n_jobs=-1)]: Done 300 out of 300 | elapsed:   24.7s finished\n"
     ]
    },
    {
     "name": "stdout",
     "output_type": "stream",
     "text": [
      "Best parameters found:  {'subsample': 0.07, 'n_estimators': 200, 'max_depth': 15, 'learning_rate': 0.35000000000000003, 'colsample_bytree': 0.01}\n",
      "Lowest RMSE found:  3.7642591271578363\n"
     ]
    }
   ],
   "source": [
    "# create a Randomized search to find optimal hyper-parameters\n",
    "import xgboost as xgb\n",
    "from sklearn.model_selection import RandomizedSearchCV\n",
    "\n",
    "gbm_param_grid = {\n",
    "    'colsample_bytree': np.arange(0,0.5,0.01),\n",
    "    'n_estimators': np.arange(100,1600,100),\n",
    "    'max_depth': np.arange(1,20),\n",
    "    'learning_rate':np.arange(0,1,0.05),\n",
    "    'subsample':np.arange(0,0.5,0.01)\n",
    "}\n",
    "\n",
    "gbm = xgb.XGBRegressor()\n",
    "\n",
    "rs_mse = RandomizedSearchCV(estimator=gbm, param_distributions=gbm_param_grid, \n",
    "                              n_iter=60,scoring='neg_root_mean_squared_error', \n",
    "                              cv=time_splitter_inner, verbose=1, n_jobs=-1)\n",
    "\n",
    "rs_mse.fit(X_xgb,y_xgb)\n",
    "\n",
    "print(\"Best parameters found: \", rs_mse.best_params_)\n",
    "print(\"Lowest RMSE found: \", np.sqrt(np.abs(rs_mse.best_score_)))"
   ]
  },
  {
   "cell_type": "code",
   "execution_count": 78,
   "metadata": {},
   "outputs": [],
   "source": [
    "# transform a time series dataset into a supervised learning dataset\n",
    "def series_to_supervised(data, n_in=1, n_out=1, dropnan=True):\n",
    "    n_vars = 1 if type(data) is list else data.shape[1]\n",
    "    df = pd.DataFrame(data)\n",
    "    cols = []\n",
    "    # input sequence (t-n, ... t-1)\n",
    "    for i in range(n_in, 0, -1):\n",
    "        cols.append(df.shift(i))\n",
    "    # forecast sequence (t, t+1, ... t+n)\n",
    "    for i in range(0, n_out):\n",
    "        cols.append(df.shift(-i))\n",
    "    # put it all together\n",
    "    agg = pd.concat(cols, axis=1)\n",
    "    # drop rows with NaN values\n",
    "    if dropnan:\n",
    "        agg.dropna(inplace=True)\n",
    "    return agg.values\n",
    "\n",
    "# split a univariate dataset into train/test sets\n",
    "def train_test_split(data, n_test):\n",
    "    return data[:-n_test, :], data[-n_test:, :]\n",
    "\n",
    "# fit an xgboost model and make a one step prediction\n",
    "def xgboost_forecast(train, testX):\n",
    "    # transform list into array\n",
    "    train = np.asarray(train)\n",
    "    # split into input and output columns\n",
    "    trainX, trainy = train[:, :-1], train[:, -1]\n",
    "    # fit model\n",
    "    model = xgb.XGBRegressor(colsample_bytree = 0.01,\n",
    "                              n_estimators = 200,\n",
    "                              max_depth = 15,\n",
    "                              learning_rate = 0.35,\n",
    "                              subsample = 0.07)\n",
    "    model.fit(trainX, trainy)\n",
    "    # make a one-step prediction\n",
    "    yhat = model.predict(np.asarray([testX]))\n",
    "    return yhat[0]\n",
    "\n",
    "# walk-forward validation for univariate data\n",
    "def walk_forward_validation(data, n_test):\n",
    "    predictions = []\n",
    "    # split dataset\n",
    "    train, test = train_test_split(data, n_test)\n",
    "    # seed history with training dataset\n",
    "    history = [x for x in train]\n",
    "    # step over each time-step in the test set\n",
    "    for i in range(len(test)):\n",
    "    # split test row into input and output columns\n",
    "        testX, testy = test[i, :-1], test[i, -1]\n",
    "    # fit model on history and make a prediction\n",
    "        yhat = xgboost_forecast(history, testX)\n",
    "    # store forecast in list of predictions\n",
    "        predictions.append(yhat)\n",
    "    # add actual observation to history for the next loop\n",
    "        history.append(test[i])\n",
    "    # summarize progress\n",
    "        print('>expected=%.1f, predicted=%.1f' % (testy, yhat))\n",
    "    # estimate prediction error\n",
    "    error = mean_absolute_error(test[:, -1], predictions)\n",
    "    return error, test[:, -1], predictions"
   ]
  },
  {
   "cell_type": "code",
   "execution_count": 53,
   "metadata": {},
   "outputs": [
    {
     "data": {
      "text/html": [
       "<div>\n",
       "<style scoped>\n",
       "    .dataframe tbody tr th:only-of-type {\n",
       "        vertical-align: middle;\n",
       "    }\n",
       "\n",
       "    .dataframe tbody tr th {\n",
       "        vertical-align: top;\n",
       "    }\n",
       "\n",
       "    .dataframe thead th {\n",
       "        text-align: right;\n",
       "    }\n",
       "</style>\n",
       "<table border=\"1\" class=\"dataframe\">\n",
       "  <thead>\n",
       "    <tr style=\"text-align: right;\">\n",
       "      <th></th>\n",
       "      <th>Microsoft</th>\n",
       "    </tr>\n",
       "    <tr>\n",
       "      <th>Date</th>\n",
       "      <th></th>\n",
       "    </tr>\n",
       "  </thead>\n",
       "  <tbody>\n",
       "    <tr>\n",
       "      <th>2010-01-04</th>\n",
       "      <td>24.168472</td>\n",
       "    </tr>\n",
       "    <tr>\n",
       "      <th>2010-01-05</th>\n",
       "      <td>24.176279</td>\n",
       "    </tr>\n",
       "    <tr>\n",
       "      <th>2010-01-06</th>\n",
       "      <td>24.027906</td>\n",
       "    </tr>\n",
       "    <tr>\n",
       "      <th>2010-01-07</th>\n",
       "      <td>23.778025</td>\n",
       "    </tr>\n",
       "    <tr>\n",
       "      <th>2010-01-08</th>\n",
       "      <td>23.942017</td>\n",
       "    </tr>\n",
       "  </tbody>\n",
       "</table>\n",
       "</div>"
      ],
      "text/plain": [
       "            Microsoft\n",
       "Date                 \n",
       "2010-01-04  24.168472\n",
       "2010-01-05  24.176279\n",
       "2010-01-06  24.027906\n",
       "2010-01-07  23.778025\n",
       "2010-01-08  23.942017"
      ]
     },
     "execution_count": 53,
     "metadata": {},
     "output_type": "execute_result"
    }
   ],
   "source": [
    "msft = aj['Microsoft'].to_frame()\n",
    "msft.head()"
   ]
  },
  {
   "cell_type": "code",
   "execution_count": 54,
   "metadata": {},
   "outputs": [],
   "source": [
    "mm = msft.values"
   ]
  },
  {
   "cell_type": "code",
   "execution_count": 79,
   "metadata": {},
   "outputs": [
    {
     "name": "stderr",
     "output_type": "stream",
     "text": [
      "C:\\Users\\Amit\\anaconda3\\lib\\site-packages\\xgboost\\data.py:94: UserWarning: Use subset (sliced data) of np.ndarray is not recommended because it will generate extra copies and increase memory consumption\n",
      "  warnings.warn(\n"
     ]
    },
    {
     "name": "stdout",
     "output_type": "stream",
     "text": [
      ">expected=187.2, predicted=182.0\n",
      ">expected=183.0, predicted=185.9\n",
      ">expected=183.3, predicted=185.6\n",
      ">expected=182.3, predicted=184.5\n",
      ">expected=183.9, predicted=183.5\n",
      ">expected=185.8, predicted=183.8\n",
      ">expected=186.3, predicted=183.6\n",
      ">expected=183.5, predicted=184.2\n",
      ">expected=177.7, predicted=182.6\n",
      ">expected=170.0, predicted=183.3\n",
      ">expected=167.2, predicted=178.5\n",
      ">expected=169.3, predicted=167.5\n",
      ">expected=157.4, predicted=175.0\n",
      ">expected=161.2, predicted=156.6\n",
      ">expected=171.9, predicted=171.7\n",
      ">expected=163.7, predicted=175.9\n",
      ">expected=169.7, predicted=161.5\n",
      ">expected=165.4, predicted=167.1\n",
      ">expected=160.7, predicted=169.7\n",
      ">expected=149.8, predicted=172.2\n",
      ">expected=160.1, predicted=173.9\n",
      ">expected=152.8, predicted=163.7\n",
      ">expected=138.3, predicted=179.6\n",
      ">expected=158.0, predicted=169.2\n",
      ">expected=134.7, predicted=155.7\n",
      ">expected=145.8, predicted=152.5\n",
      ">expected=139.7, predicted=152.2\n",
      ">expected=142.0, predicted=147.4\n",
      ">expected=136.6, predicted=150.0\n",
      ">expected=135.3, predicted=159.8\n",
      "MAE: 9.533\n"
     ]
    }
   ],
   "source": [
    "data =  series_to_supervised(mm,n_in=6)\n",
    "mae, y, yhat = walk_forward_validation(data, 30)\n",
    "print('MAE: %.3f' % mae)"
   ]
  },
  {
   "cell_type": "code",
   "execution_count": 80,
   "metadata": {},
   "outputs": [
    {
     "data": {
      "image/png": "[encoded data removed]",
      "text/plain": [
       "<Figure size 432x288 with 1 Axes>"
      ]
     },
     "metadata": {
      "needs_background": "light"
     },
     "output_type": "display_data"
    }
   ],
   "source": [
    "plt.plot(y, label='Expected')\n",
    "plt.plot(yhat, label='Predicted')\n",
    "plt.legend()\n",
    "plt.show()"
   ]
  },
  {
   "cell_type": "code",
   "execution_count": 81,
   "metadata": {},
   "outputs": [
    {
     "name": "stdout",
     "output_type": "stream",
     "text": [
      "Mean Absolute Error:  9.533005777994795\n",
      "Root Mean Squared Error:  13.049618110110021\n"
     ]
    }
   ],
   "source": [
    "print('Mean Absolute Error: ',mean_absolute_error(y,yhat))\n",
    "print('Root Mean Squared Error: ',np.sqrt(mean_squared_error(y,yhat)))"
   ]
  },
  {
   "cell_type": "markdown",
   "metadata": {},
   "source": [
    "<font color='blue'> ARIMA</font>\n"
   ]
  },
  {
   "cell_type": "code",
   "execution_count": 33,
   "metadata": {},
   "outputs": [
    {
     "data": {
      "text/plain": [
       "[<matplotlib.lines.Line2D at 0x21defb6a160>]"
      ]
     },
     "execution_count": 33,
     "metadata": {},
     "output_type": "execute_result"
    },
    {
     "data": {
      "image/png": "[encoded data removed]",
      "text/plain": [
       "<Figure size 432x288 with 1 Axes>"
      ]
     },
     "metadata": {
      "needs_background": "light"
     },
     "output_type": "display_data"
    }
   ],
   "source": [
    "# convert to stationarity- mean,variance and covaraince is constant over periods\n",
    "plt.plot(MSFT['Microsoft'].diff(-1))\n"
   ]
  },
  {
   "cell_type": "code",
   "execution_count": 34,
   "metadata": {},
   "outputs": [],
   "source": [
    "#create stationarity\n",
    "difference = MSFT[['Microsoft']].diff(-1)\n"
   ]
  },
  {
   "cell_type": "code",
   "execution_count": 35,
   "metadata": {},
   "outputs": [],
   "source": [
    "#drop missing values \n",
    "difference = difference.dropna()"
   ]
  },
  {
   "cell_type": "code",
   "execution_count": 36,
   "metadata": {},
   "outputs": [
    {
     "data": {
      "image/png": "[encoded data removed]",
      "text/plain": [
       "<Figure size 432x288 with 1 Axes>"
      ]
     },
     "metadata": {
      "needs_background": "light"
     },
     "output_type": "display_data"
    }
   ],
   "source": [
    "_ = plot_acf(difference)"
   ]
  },
  {
   "cell_type": "code",
   "execution_count": 37,
   "metadata": {},
   "outputs": [],
   "source": [
    "test_size = 30\n",
    "\n",
    "X = MSFT[['Microsoft']] \n",
    "\n",
    "train = X[:-test_size]\n",
    "test = X[-test_size:]\n",
    "\n",
    "training_data = train['Microsoft'].values.reshape(-1,1)\n",
    "testing_data = test['Microsoft'].values.reshape(-1,1)\n"
   ]
  },
  {
   "cell_type": "code",
   "execution_count": null,
   "metadata": {},
   "outputs": [],
   "source": [
    "#Armia model\n",
    "from statsmodels.tsa.arima_model import ARIMA\n",
    "#p: periods taken for autoregressive model\n",
    "#d: order of integration\n",
    "#q: periods in moving average model \n",
    "\n",
    "\n",
    "warnings.filterwarnings('ignore')\n",
    "p = [x for x in range(5)]\n",
    "d=q = [0,1,2]\n",
    "pdq = list(itertools.product(p,d,q))\n",
    "results = {}\n",
    "\n",
    "def evaluate_arima_model(train,test,arima_order):\n",
    "    history = [x for x in train]\n",
    "    model_predictions = []\n",
    "    N_test_observations = len(test)\n",
    "\n",
    "    for time_point in range(N_test_observations):\n",
    "        model = ARIMA(history,order=arima_order)\n",
    "        model_fit = model.fit(disp=0)\n",
    "        yhat = model_fit.forecast()[0]\n",
    "        model_predictions.append(yhat)\n",
    "        true_test_value = testing_data[time_point]\n",
    "        history.append(true_test_value)\n",
    "    \n",
    "    MSE_error = mean_squared_error(testing_data,model_predictions)\n",
    "    return MSE_error\n",
    "    \n",
    "\n",
    "for param in pdq:\n",
    "    try:\n",
    "        param_mse = evaluate_arima_model(training_data,testing_data,param)\n",
    "        results[param] = param_mse\n",
    "    except:\n",
    "        continue\n"
   ]
  },
  {
   "cell_type": "code",
   "execution_count": null,
   "metadata": {},
   "outputs": [],
   "source": [
    "results_df = pd.DataFrame(list(results.items()),columns=['ARIMA Parameters','MSE'])"
   ]
  },
  {
   "cell_type": "code",
   "execution_count": null,
   "metadata": {},
   "outputs": [],
   "source": [
    "results_df[results_df.MSE == results_df.MSE.min()]"
   ]
  },
  {
   "cell_type": "code",
   "execution_count": 40,
   "metadata": {
    "scrolled": true
   },
   "outputs": [
    {
     "name": "stdout",
     "output_type": "stream",
     "text": [
      "63.48365453111167\n"
     ]
    }
   ],
   "source": [
    "import itertools\n",
    "import warnings\n",
    "warnings.filterwarnings('ignore')\n",
    "\n",
    "history = [x for x in training_data]\n",
    "arima_model_predictions = []\n",
    "N_test_observations = len(testing_data)\n",
    "\n",
    "for time_point in range(N_test_observations):\n",
    "    model = ARIMA(history,order=(2,2,1))\n",
    "    model_fit = model.fit(disp=False)\n",
    "    output = model_fit.forecast()\n",
    "    yhat = output[0]\n",
    "    arima_model_predictions.append(yhat)\n",
    "    true_test_value = testing_data[time_point]\n",
    "    history.append(true_test_value)\n",
    "    \n",
    "\n",
    "MSE_error = mean_squared_error(testing_data,arima_model_predictions)\n",
    "print(MSE_error)\n"
   ]
  },
  {
   "cell_type": "code",
   "execution_count": 41,
   "metadata": {},
   "outputs": [
    {
     "data": {
      "image/png": "[encoded data removed]",
      "text/plain": [
       "<Figure size 432x288 with 1 Axes>"
      ]
     },
     "metadata": {
      "needs_background": "light"
     },
     "output_type": "display_data"
    }
   ],
   "source": [
    "test_set_range = test['Microsoft'].index\n",
    "\n",
    "plt.plot(test_set_range,testing_data,color='blue',label='Test')\n",
    "plt.plot(test_set_range,arima_model_predictions,color='red',label='Prediction')\n",
    "plt.xticks(rotation=45)\n",
    "plt.legend()\n",
    "plt.show()"
   ]
  },
  {
   "cell_type": "code",
   "execution_count": 42,
   "metadata": {},
   "outputs": [
    {
     "name": "stdout",
     "output_type": "stream",
     "text": [
      "Mean Absolute Error:  5.892893429239204\n",
      "Root Mean Squared Error:  7.917518650653166\n"
     ]
    }
   ],
   "source": [
    "print('Mean Absolute Error: ',mean_absolute_error(y_test,arima_model_predictions))\n",
    "print('Root Mean Squared Error: ',np.sqrt(mean_squared_error(y_test,arima_model_predictions)))"
   ]
  }
 ],
 "metadata": {
  "kernelspec": {
   "display_name": "Python 3",
   "language": "python",
   "name": "python3"
  },
  "language_info": {
   "codemirror_mode": {
    "name": "ipython",
    "version": 3
   },
   "file_extension": ".py",
   "mimetype": "text/x-python",
   "name": "python",
   "nbconvert_exporter": "python",
   "pygments_lexer": "ipython3",
   "version": "3.8.3"
  }
 },
 "nbformat": 4,
 "nbformat_minor": 4
}
